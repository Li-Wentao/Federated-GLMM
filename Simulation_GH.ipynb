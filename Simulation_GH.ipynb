{
 "cells": [
  {
   "cell_type": "markdown",
   "metadata": {},
   "source": [
    "# Gauss-Hermite Approximation"
   ]
  },
  {
   "cell_type": "markdown",
   "metadata": {},
   "source": [
    "### Load packages"
   ]
  },
  {
   "cell_type": "code",
   "execution_count": 681,
   "metadata": {},
   "outputs": [],
   "source": [
    "from numpy.polynomial.hermite import hermgauss\n",
    "from matplotlib import pyplot as plt\n",
    "from numpy.linalg import inv\n",
    "import pandas as pd\n",
    "import numpy as np\n",
    "import scipy"
   ]
  },
  {
   "cell_type": "markdown",
   "metadata": {},
   "source": [
    "### Randomized simulation data for two sites\n",
    "- Set random seed\n",
    "- Generate 10 true betas ranged in (-10, 10)\n",
    "- Generate 2 sigmas for noise variance in different sites\n",
    "- Generate data X1 and X2 with size (1000, 10)\n",
    "- Generate result y1 and y2 with bernoulli distibution "
   ]
  },
  {
   "cell_type": "code",
   "execution_count": 593,
   "metadata": {},
   "outputs": [],
   "source": [
    "np.random.seed(1)\n",
    "true_beta = (np.random.rand(10,1) - np.random.rand(10,1)) * 10\n",
    "true_sigma = np.random.rand(2)\n",
    "X1 = (np.random.rand(1000, 10) - np.random.rand(1000, 10)) * 10\n",
    "p1 = 1 / (1 + np.exp(-(X1 @ ture_beta + np.random.normal(0, true_sigma[0], 1000).reshape(1000, 1))))\n",
    "y1 = np.random.binomial(1,p1)\n",
    "X2 = (np.random.rand(1000, 10) - np.random.rand(1000, 10)) * 10\n",
    "p2 = 1 / (1 + np.exp(-(X2 @ ture_beta + np.random.normal(0, true_sigma[1], 1000).reshape(1000, 1))))\n",
    "y2 = np.random.binomial(1,p2)"
   ]
  },
  {
   "cell_type": "markdown",
   "metadata": {},
   "source": [
    "### Definitions"
   ]
  },
  {
   "cell_type": "markdown",
   "metadata": {},
   "source": [
    "Notation for $\\pi_{ij}$:\n",
    "\n",
    "$$\\pi_{ij} = \\dfrac{\\exp{(X_{ij}^\\top\\beta_0}+\\mu_{i0})}{1 + \\exp{(X_{ij}^\\top\\beta_0}+\\mu_{i0})}$$"
   ]
  },
  {
   "cell_type": "code",
   "execution_count": 950,
   "metadata": {},
   "outputs": [],
   "source": [
    "def Pi(x, beta_0, mu):\n",
    "    return np.asarray((np.exp(x @ beta_0 + mu) / (1 + np.exp(x @ beta_0 + mu))))"
   ]
  },
  {
   "cell_type": "markdown",
   "metadata": {},
   "source": [
    "Notation for $g(\\mu_{i0})$:\n",
    "\n",
    "$$g(\\mu_{i0};\\beta_0)=\\sum_{j=1}^{n_i}\\left[y_{ij}\\log\\pi_{ij}+(1-y_{ij})\\log(1-\\pi_{ij})\\right]+\\log\\phi(\\mu_{i0};\\theta_0)$$"
   ]
  },
  {
   "cell_type": "code",
   "execution_count": 951,
   "metadata": {},
   "outputs": [],
   "source": [
    "def g(x, y, mu, beta_0, tau=1):\n",
    "    g = sum(y * np.log(Pi(x, beta_0, mu)) + (1 - y) * np.log(1 - Pi(x, beta_0, mu))) \\\n",
    "    + np.log((np.sqrt(2 * np.pi) * tau)**(-1) * np.exp(-mu**2/(2 * tau**2)))\n",
    "    return g"
   ]
  },
  {
   "cell_type": "markdown",
   "metadata": {},
   "source": [
    "Notation for $g'(\\mu_{i0})$:\n",
    "\n",
    "$$\\dfrac{\\partial g}{\\partial \\mu_{i0}}=\\sum_{j=1}^{n_i}(y_{ij}-\\pi_{ij})-\\dfrac{\\mu_{i0}}{\\tau_0^2}$$"
   ]
  },
  {
   "cell_type": "code",
   "execution_count": 952,
   "metadata": {},
   "outputs": [],
   "source": [
    "def g_1(x, y, mu, beta_0, tau = 1):\n",
    "    return sum(y - Pi(x, beta_0, mu)) - mu/tau**2"
   ]
  },
  {
   "cell_type": "markdown",
   "metadata": {},
   "source": [
    "Notation for $g''(\\mu_{i0})$:\n",
    "\n",
    "$$\\dfrac{\\partial^2 g}{\\partial \\mu_{i0}^2}=-\\sum_{j=1}^{n_i}\\dfrac{\\partial\\pi_{ij}}{\\partial\\mu_{i0}}-\\dfrac{1}{\\tau_0^2}$$"
   ]
  },
  {
   "cell_type": "code",
   "execution_count": 953,
   "metadata": {},
   "outputs": [],
   "source": [
    "def g_2(x, y, mu, beta_0, tau = 1):\n",
    "    return sum(- np.asarray((np.exp(x @ beta_0 + mu) / (1 + np.exp(x @ beta_0 + mu))**2))) - mu/tau**2"
   ]
  },
  {
   "cell_type": "markdown",
   "metadata": {},
   "source": [
    "Notation for $\\pi_{ij}'(\\beta_0)$:\n",
    "\n",
    "$$\\dfrac{\\partial\\pi_{ij}}{\\partial\\beta_0}=\\dfrac{X_{ij}\\exp\\left(X_{ij}^\\top\\beta_0+\\mu_{i0}\\right)}{\\left[1+\\left(X_{ij}^\\top\\beta_0+\\mu_{i0}\\right)\\right]^2}$$"
   ]
  },
  {
   "cell_type": "code",
   "execution_count": 954,
   "metadata": {},
   "outputs": [],
   "source": [
    "def Pi_1(x, beta_0, mu):\n",
    "    return np.asarray((np.exp(x @ beta_0 + mu) / (1 + np.exp(x @ beta_0 + mu))**2)) * x"
   ]
  },
  {
   "cell_type": "markdown",
   "metadata": {},
   "source": [
    "Notation for $\\hat\\omega$:\n",
    "\n",
    "$$\\hat\\omega=\\sqrt{-\\dfrac{1}{g''(\\hat\\mu_{i0})}}$$"
   ]
  },
  {
   "cell_type": "code",
   "execution_count": 955,
   "metadata": {},
   "outputs": [],
   "source": [
    "def omega(x, y, mu, beta_0, tau = 1):\n",
    "    return np.sqrt(-1/g_2(x, y, mu, beta_0))"
   ]
  },
  {
   "cell_type": "markdown",
   "metadata": {},
   "source": [
    "Notation for Hermite polynomial function $f_k(\\hat\\mu_{i0};\\beta_0)$:\n",
    "\n",
    "$$h_k\\exp\\{g(\\hat\\mu_{i0}+\\sqrt{2\\pi}\\hat\\omega x_k;\\beta_0)+x_k^2\\}$$"
   ]
  },
  {
   "cell_type": "code",
   "execution_count": 956,
   "metadata": {},
   "outputs": [],
   "source": [
    "def f_k(k, x, y, mu, beta_0, tau = 1):\n",
    "    [x_k, h_k] = hermgauss(k)\n",
    "    return h_k * np.exp(g(x, y, mu + np.sqrt(2 * np.pi) * omega(x, y, mu, beta_0, tau) * x_k, beta_0) + x_k**2)"
   ]
  },
  {
   "cell_type": "markdown",
   "metadata": {},
   "source": [
    "Notation for $\\mathcal L_i$:\n",
    "\n",
    "$$\\mathcal L_i=\\sqrt{2\\pi}\\hat\\omega\\sum_{k=1}^lh_k\\exp\\left\\{g(\\hat\\mu_{i0}+\\sqrt{2\\pi}\\hat\\omega x_k;\\beta_0)+x_k^2\\right\\}$$"
   ]
  },
  {
   "cell_type": "code",
   "execution_count": 957,
   "metadata": {},
   "outputs": [],
   "source": [
    "def L(k, x, y, mu, beta_0, tau = 1):\n",
    "    return np.sqrt(2 * np.pi) * omega(x, y, mu, beta_0) * sum(f_k(k, x, y, mu, beta_0))"
   ]
  },
  {
   "cell_type": "markdown",
   "metadata": {},
   "source": [
    "## STEP 1: Maximize $g(\\mu_{i0})$"
   ]
  },
  {
   "cell_type": "code",
   "execution_count": 958,
   "metadata": {},
   "outputs": [],
   "source": [
    "def max_mu(x, y, mu, beta_0, tau=1, max_iter=100):\n",
    "    for step in range(max_iter):\n",
    "#         print('Step: ', step, '\\n')\n",
    "        mu_new = mu - g_1(x, y, mu, beta_0, tau)/g_2(x, y, mu, beta_0, tau)\n",
    "        diff = mu_new - mu\n",
    "#         print(diff)\n",
    "        if diff == 0:\n",
    "#             print(mu)\n",
    "            break;\n",
    "        mu = mu_new\n",
    "    return mu[0]\n",
    "#     print('mu converges to:', mu[0], 'in', step + 1, 'steps, with difference', diff[0])"
   ]
  },
  {
   "cell_type": "markdown",
   "metadata": {},
   "source": [
    "## STEP 2: Maximization preparation of $\\beta_0$ in LOCAL"
   ]
  },
  {
   "cell_type": "markdown",
   "metadata": {},
   "source": [
    "Notation for $\\dfrac{\\partial\\mathcal L_i}{\\partial\\beta_0}$\n",
    "\n",
    "$$\\dfrac{\\partial\\mathcal L_i}{\\partial\\beta_0}=\\sqrt{2\\pi}\\hat\\omega\\sum_{k=1}^l\\left\\{f_k(\\hat\\mu_{i0};\\beta_0)\\sum_{j=1}^{n_i}(X_{ij}y_{ij}-X_{ij}\\pi_{ij})\\right\\}$$"
   ]
  },
  {
   "cell_type": "code",
   "execution_count": 959,
   "metadata": {},
   "outputs": [],
   "source": [
    "def L_1(k, x, y, mu, beta_0, tau = 1):\n",
    "    L_1 = 0\n",
    "    [x_k, h_k] = hermgauss(k)    \n",
    "    for i in range(k):\n",
    "        L_1 += np.sqrt(2 * np.pi) * omega(x, y, mu, beta_0) *\\\n",
    "        f_k(k, x, y, mu, beta_0, tau = tau)[i] *\\\n",
    "        np.sum(x * y - x * Pi(x, beta_0, mu + np.sqrt(2 * np.pi) * omega(x, y, mu, beta_0, tau) * x_k[i]), axis=0)\n",
    "    return L_1"
   ]
  },
  {
   "cell_type": "markdown",
   "metadata": {},
   "source": [
    "Notation for $\\dfrac{\\partial^2\\mathcal L_i}{\\partial\\beta_0^2}$:\n",
    "\n",
    "$$\\dfrac{\\partial^2\\mathcal L_i}{\\partial\\beta_0^2}=\\sqrt{2\\pi}\\hat\\omega\\sum_{k=1}^l\\left\\{f_k(\\hat\\mu_{i0};\\beta_0)\\sum_{j=1}^{n_i}(X_{ij}y_{ij}-X_{ij}\\pi_{ij})\\left[{\\sum_{j=1}^{n_i}(X_{ij}y_{ij}-X_{ij}\\pi_{ij})\\right]^\\top+f_k(\\hat\\mu_{i0};\\beta_0)\\sum_{j=1}^{n_i}\\left(-X_{ij}\\dfrac{\\partial\\pi_{ij}}{\\partial\\beta_0}\\right)\\right\\}$$"
   ]
  },
  {
   "cell_type": "code",
   "execution_count": 960,
   "metadata": {},
   "outputs": [],
   "source": [
    "def L_2(k, x, y, mu, beta_0, tau = 1):\n",
    "    L2 = 0\n",
    "    [x_k, h_k] = hermgauss(k) \n",
    "    for i in range(k):\n",
    "        boogie = 0\n",
    "        for j in range(x.shape[0]):\n",
    "            boogie += -x[j].reshape(x[j].shape[0],1) @\\\n",
    "            Pi_1(x[j], beta_0, mu + np.sqrt(2 * np.pi) *\\\n",
    "                 omega(x, y, mu, beta_0, tau) * x_k[i]).reshape(1,x[j].shape[0])\n",
    "        L2 += np.sqrt(2 * np.pi) * omega(x, y, mu, beta_0) *\\\n",
    "        (f_k(k, x, y, mu, beta_0, tau = tau)[i] *\\\n",
    "         np.sum(x * y - x * Pi(x, beta_0, mu + np.sqrt(2 * np.pi) *\\\n",
    "                               omega(x, y, mu, beta_0, tau) * x_k[i]), axis=0).reshape(x.shape[1],1) @\\\n",
    "         np.sum(x * y - x * Pi(x, beta_0, mu + np.sqrt(2 * np.pi) *\\\n",
    "                               omega(x, y, mu, beta_0, tau) * x_k[i]), axis=0).reshape(1,x.shape[1]) +\\\n",
    "        f_k(k, x, y, mu, beta_0, tau = tau)[i] * boogie)\n",
    "    return L2"
   ]
  },
  {
   "cell_type": "markdown",
   "metadata": {},
   "source": [
    "## STEP 3: Maximization of $\\beta_0$ in GLOBAL"
   ]
  },
  {
   "cell_type": "code",
   "execution_count": 961,
   "metadata": {},
   "outputs": [],
   "source": [
    "def LL_1(site_num, k, X, Y, mu, beta_0, tau = 1):\n",
    "    LL1 = 0\n",
    "    for i in range(site_num):\n",
    "        LL1 += L_1(k, X[i], Y[i], mu[i], beta_0, tau) / L(k, X[i], Y[i], mu[i], beta_0, tau)\n",
    "    return LL1"
   ]
  },
  {
   "cell_type": "code",
   "execution_count": 962,
   "metadata": {},
   "outputs": [],
   "source": [
    "def LL_2(site_num, k, X, Y, mu, beta_0, tau = 1):\n",
    "    LL2 = 0\n",
    "    for i in range(site_num):\n",
    "        LL2 += L_2(k, X[i], Y[i], mu[i], beta_0, tau) / L(k, X[i], Y[i], mu[i], beta_0, tau)\n",
    "    LL1 = LL_1(site_num, k, X, Y, mu, beta_0, tau)\n",
    "    return LL2 - LL1.reshape(LL1.shape[0],1) @ LL1.reshape(1,LL1.shape[0])"
   ]
  },
  {
   "cell_type": "code",
   "execution_count": 963,
   "metadata": {},
   "outputs": [],
   "source": [
    "def update(site_num, k, X, Y, mu, beta_0, tau = 1):\n",
    "    direction = LL_1(site_num, k, X, Y, mu, beta_0, tau).reshape(1,beta_0.shape[0]) @\\\n",
    "    inv(LL_2(site_num, k, X, Y, mu, beta_0, tau))\n",
    "    return direction"
   ]
  },
  {
   "cell_type": "markdown",
   "metadata": {},
   "source": [
    "# Simulation starts below"
   ]
  },
  {
   "cell_type": "markdown",
   "metadata": {},
   "source": [
    "### Main function"
   ]
  },
  {
   "cell_type": "code",
   "execution_count": 967,
   "metadata": {},
   "outputs": [
    {
     "name": "stdout",
     "output_type": "stream",
     "text": [
      "Initial beta: [[0.1]\n",
      " [0.1]\n",
      " [0.1]\n",
      " [0.1]\n",
      " [0.1]\n",
      " [0.1]\n",
      " [0.1]\n",
      " [0.1]\n",
      " [0.1]\n",
      " [0.1]] \n",
      "\n",
      "Step  1 :\n",
      "\n",
      "Mu:\n",
      " [0.024708187293663673, 0.21466825773673953] \n",
      "\n",
      "Beta:\n",
      " [[0.10033706]\n",
      " [0.10048515]\n",
      " [0.1000009 ]\n",
      " [0.09988309]\n",
      " [0.10039978]\n",
      " [0.09996018]\n",
      " [0.10011196]\n",
      " [0.10066047]\n",
      " [0.10062657]\n",
      " [0.10041969]] \n",
      "\n",
      "Delta:\n",
      " [[ 3.37056237e-04]\n",
      " [ 4.85148215e-04]\n",
      " [ 8.97296476e-07]\n",
      " [-1.16907949e-04]\n",
      " [ 3.99779538e-04]\n",
      " [-3.98184374e-05]\n",
      " [ 1.11955159e-04]\n",
      " [ 6.60465618e-04]\n",
      " [ 6.26569354e-04]\n",
      " [ 4.19690932e-04]] \n",
      "\n",
      "Mu:\n",
      " [0.024708187293663673, 0.21466825773673953] \n",
      "\n",
      "Beta:\n",
      " [[0.10067624]\n",
      " [0.10097282]\n",
      " [0.10000269]\n",
      " [0.09976664]\n",
      " [0.10080164]\n",
      " [0.09992098]\n",
      " [0.10022515]\n",
      " [0.10132361]\n",
      " [0.10125565]\n",
      " [0.10084149]] \n",
      "\n",
      "Delta:\n",
      " [[ 3.39184061e-04]\n",
      " [ 4.87670086e-04]\n",
      " [ 1.79572284e-06]\n",
      " [-1.16452790e-04]\n",
      " [ 4.01863478e-04]\n",
      " [-3.91973500e-05]\n",
      " [ 1.13193023e-04]\n",
      " [ 6.63141162e-04]\n",
      " [ 6.29080596e-04]\n",
      " [ 4.21800578e-04]] \n",
      "\n",
      "Mu:\n",
      " [0.024708187293663673, 0.21466825773673953] \n",
      "\n",
      "Beta:\n",
      " [[0.10101757]\n",
      " [0.10146303]\n",
      " [0.10000539]\n",
      " [0.09965064]\n",
      " [0.10120561]\n",
      " [0.09988241]\n",
      " [0.10033959]\n",
      " [0.10198945]\n",
      " [0.10188726]\n",
      " [0.10126542]] \n",
      "\n",
      "Delta:\n",
      " [[ 3.41332588e-04]\n",
      " [ 4.90216207e-04]\n",
      " [ 2.70169673e-06]\n",
      " [-1.15994497e-04]\n",
      " [ 4.03965660e-04]\n",
      " [-3.85716105e-05]\n",
      " [ 1.14440603e-04]\n",
      " [ 6.65840066e-04]\n",
      " [ 6.31613565e-04]\n",
      " [ 4.23930022e-04]] \n",
      "\n",
      "Mu:\n",
      " [0.024708187293663673, 0.21466825773673953] \n",
      "\n",
      "Beta:\n",
      " [[0.10136107]\n",
      " [0.10195582]\n",
      " [0.10000901]\n",
      " [0.09953511]\n",
      " [0.10161169]\n",
      " [0.09984447]\n",
      " [0.10045529]\n",
      " [0.10265801]\n",
      " [0.10252143]\n",
      " [0.1016915 ]] \n",
      "\n",
      "Delta:\n",
      " [[ 3.43502076e-04]\n",
      " [ 4.92786898e-04]\n",
      " [ 3.61530032e-06]\n",
      " [-1.15533060e-04]\n",
      " [ 4.06086289e-04]\n",
      " [-3.79411556e-05]\n",
      " [ 1.15698002e-04]\n",
      " [ 6.68562597e-04]\n",
      " [ 6.34168562e-04]\n",
      " [ 4.26079488e-04]] \n",
      "\n",
      "Mu:\n",
      " [0.024708187293663673, 0.21466825773673953] \n",
      "\n",
      "Beta:\n",
      " [[0.10170677]\n",
      " [0.1024512 ]\n",
      " [0.10001355]\n",
      " [0.09942004]\n",
      " [0.10201992]\n",
      " [0.09980717]\n",
      " [0.10057225]\n",
      " [0.10332932]\n",
      " [0.10315818]\n",
      " [0.10211975]] \n",
      "\n",
      "Delta:\n",
      " [[ 3.45692789e-04]\n",
      " [ 4.95382484e-04]\n",
      " [ 4.53661698e-06]\n",
      " [-1.15068473e-04]\n",
      " [ 4.08225575e-04]\n",
      " [-3.73059211e-05]\n",
      " [ 1.16965325e-04]\n",
      " [ 6.71309027e-04]\n",
      " [ 6.36745892e-04]\n",
      " [ 4.28249204e-04]] \n",
      "\n",
      "Mu:\n",
      " [0.024708187293663673, 0.21466825773673953] \n",
      "\n",
      "Beta:\n",
      " [[0.10205467]\n",
      " [0.10294921]\n",
      " [0.10001901]\n",
      " [0.09930544]\n",
      " [0.1024303 ]\n",
      " [0.0997705 ]\n",
      " [0.10069049]\n",
      " [0.1040034 ]\n",
      " [0.10379752]\n",
      " [0.10255019]] \n",
      "\n",
      "Delta:\n",
      " [[ 3.47904991e-04]\n",
      " [ 4.98003296e-04]\n",
      " [ 5.46573135e-06]\n",
      " [-1.14600728e-04]\n",
      " [ 4.10383728e-04]\n",
      " [-3.66658415e-05]\n",
      " [ 1.18242678e-04]\n",
      " [ 6.74079631e-04]\n",
      " [ 6.39345869e-04]\n",
      " [ 4.30439401e-04]] \n",
      "\n",
      "Mu:\n",
      " [0.024708187293663673, 0.21466825773673953] \n",
      "\n",
      "Beta:\n",
      " [[0.10240481]\n",
      " [0.10344986]\n",
      " [0.10002542]\n",
      " [0.09919131]\n",
      " [0.10284287]\n",
      " [0.09973448]\n",
      " [0.10081002]\n",
      " [0.10468027]\n",
      " [0.10443949]\n",
      " [0.10298284]] \n",
      "\n",
      "Delta:\n",
      " [[ 3.50138954e-04]\n",
      " [ 5.00649670e-04]\n",
      " [ 6.40272931e-06]\n",
      " [-1.14129818e-04]\n",
      " [ 4.12560962e-04]\n",
      " [-3.60208499e-05]\n",
      " [ 1.19530171e-04]\n",
      " [ 6.76874689e-04]\n",
      " [ 6.41968809e-04]\n",
      " [ 4.32650314e-04]] \n",
      "\n",
      "Mu:\n",
      " [0.024708187293663673, 0.21466825773673953] \n",
      "\n",
      "Beta:\n",
      " [[0.10275721]\n",
      " [0.10395318]\n",
      " [0.10003276]\n",
      " [0.09907766]\n",
      " [0.10325762]\n",
      " [0.09969911]\n",
      " [0.10093085]\n",
      " [0.10535997]\n",
      " [0.10508411]\n",
      " [0.10341772]] \n",
      "\n",
      "Delta:\n",
      " [[ 3.52394953e-04]\n",
      " [ 5.03321946e-04]\n",
      " [ 7.34769802e-06]\n",
      " [-1.13655736e-04]\n",
      " [ 4.14757497e-04]\n",
      " [-3.53708783e-05]\n",
      " [ 1.20827913e-04]\n",
      " [ 6.79694486e-04]\n",
      " [ 6.44615037e-04]\n",
      " [ 4.34882179e-04]] \n",
      "\n",
      "Mu:\n",
      " [0.024708187293663673, 0.21466825773673953] \n",
      "\n",
      "Beta:\n",
      " [[0.10311188]\n",
      " [0.1044592 ]\n",
      " [0.10004106]\n",
      " [0.09896448]\n",
      " [0.1036746 ]\n",
      " [0.09966439]\n",
      " [0.10105299]\n",
      " [0.10604251]\n",
      " [0.10573139]\n",
      " [0.10385486]] \n",
      "\n",
      "Delta:\n",
      " [[ 3.54673264e-04]\n",
      " [ 5.06020472e-04]\n",
      " [ 8.30072596e-06]\n",
      " [-1.13178476e-04]\n",
      " [ 4.16973551e-04]\n",
      " [-3.47158575e-05]\n",
      " [ 1.22136017e-04]\n",
      " [ 6.82539310e-04]\n",
      " [ 6.47284882e-04]\n",
      " [ 4.37135237e-04]] \n",
      "\n",
      "Mu:\n",
      " [0.024708187293663673, 0.21466825773673953] \n",
      "\n",
      "Beta:\n",
      " [[0.10346885]\n",
      " [0.10496794]\n",
      " [0.10005033]\n",
      " [0.09885178]\n",
      " [0.10409381]\n",
      " [0.09963034]\n",
      " [0.10117644]\n",
      " [0.10672792]\n",
      " [0.10638137]\n",
      " [0.10429427]] \n",
      "\n",
      "Delta:\n",
      " [[ 3.56974172e-04]\n",
      " [ 5.08745601e-04]\n",
      " [ 9.26190295e-06]\n",
      " [-1.12698033e-04]\n",
      " [ 4.19209350e-04]\n",
      " [-3.40557166e-05]\n",
      " [ 1.23454596e-04]\n",
      " [ 6.85409456e-04]\n",
      " [ 6.49978681e-04]\n",
      " [ 4.39409734e-04]] \n",
      "\n",
      "Mu:\n",
      " [0.024708187293663673, 0.21466825773673953] \n",
      "\n"
     ]
    },
    {
     "ename": "KeyboardInterrupt",
     "evalue": "",
     "output_type": "error",
     "traceback": [
      "\u001b[0;31m---------------------------------------------------------------------------\u001b[0m",
      "\u001b[0;31mKeyboardInterrupt\u001b[0m                         Traceback (most recent call last)",
      "\u001b[0;32m<ipython-input-967-bd3d25a79218>\u001b[0m in \u001b[0;36m<module>\u001b[0;34m\u001b[0m\n\u001b[1;32m     13\u001b[0m     \u001b[0;32mfor\u001b[0m \u001b[0msubstep\u001b[0m \u001b[0;32min\u001b[0m \u001b[0mrange\u001b[0m\u001b[0;34m(\u001b[0m\u001b[0;36m100\u001b[0m\u001b[0;34m)\u001b[0m\u001b[0;34m:\u001b[0m\u001b[0;34m\u001b[0m\u001b[0;34m\u001b[0m\u001b[0m\n\u001b[1;32m     14\u001b[0m         \u001b[0mprint\u001b[0m\u001b[0;34m(\u001b[0m\u001b[0;34m'Mu:\\n'\u001b[0m\u001b[0;34m,\u001b[0m \u001b[0mmu\u001b[0m\u001b[0;34m,\u001b[0m \u001b[0;34m'\\n'\u001b[0m\u001b[0;34m)\u001b[0m\u001b[0;34m\u001b[0m\u001b[0;34m\u001b[0m\u001b[0m\n\u001b[0;32m---> 15\u001b[0;31m         \u001b[0mnew_beta\u001b[0m \u001b[0;34m=\u001b[0m \u001b[0mbeta_0\u001b[0m \u001b[0;34m-\u001b[0m \u001b[0mupdate\u001b[0m\u001b[0;34m(\u001b[0m\u001b[0mlen\u001b[0m\u001b[0;34m(\u001b[0m\u001b[0mmu\u001b[0m\u001b[0;34m)\u001b[0m\u001b[0;34m,\u001b[0m \u001b[0mk\u001b[0m\u001b[0;34m,\u001b[0m \u001b[0mX\u001b[0m\u001b[0;34m,\u001b[0m \u001b[0mY\u001b[0m\u001b[0;34m,\u001b[0m \u001b[0mmu\u001b[0m\u001b[0;34m,\u001b[0m \u001b[0mbeta_0\u001b[0m\u001b[0;34m)\u001b[0m\u001b[0;34m.\u001b[0m\u001b[0mreshape\u001b[0m\u001b[0;34m(\u001b[0m\u001b[0mbeta_0\u001b[0m\u001b[0;34m.\u001b[0m\u001b[0mshape\u001b[0m\u001b[0;34m[\u001b[0m\u001b[0;36m0\u001b[0m\u001b[0;34m]\u001b[0m\u001b[0;34m,\u001b[0m\u001b[0;36m1\u001b[0m\u001b[0;34m)\u001b[0m\u001b[0;34m\u001b[0m\u001b[0;34m\u001b[0m\u001b[0m\n\u001b[0m\u001b[1;32m     16\u001b[0m         \u001b[0mdelta\u001b[0m \u001b[0;34m=\u001b[0m \u001b[0mnew_beta\u001b[0m \u001b[0;34m-\u001b[0m \u001b[0mbeta_0\u001b[0m\u001b[0;34m\u001b[0m\u001b[0;34m\u001b[0m\u001b[0m\n\u001b[1;32m     17\u001b[0m         \u001b[0mbeta_0\u001b[0m \u001b[0;34m=\u001b[0m \u001b[0mnew_beta\u001b[0m\u001b[0;34m\u001b[0m\u001b[0;34m\u001b[0m\u001b[0m\n",
      "\u001b[0;32m<ipython-input-963-5f14c71c7f82>\u001b[0m in \u001b[0;36mupdate\u001b[0;34m(site_num, k, X, Y, mu, beta_0, tau)\u001b[0m\n\u001b[1;32m      1\u001b[0m \u001b[0;32mdef\u001b[0m \u001b[0mupdate\u001b[0m\u001b[0;34m(\u001b[0m\u001b[0msite_num\u001b[0m\u001b[0;34m,\u001b[0m \u001b[0mk\u001b[0m\u001b[0;34m,\u001b[0m \u001b[0mX\u001b[0m\u001b[0;34m,\u001b[0m \u001b[0mY\u001b[0m\u001b[0;34m,\u001b[0m \u001b[0mmu\u001b[0m\u001b[0;34m,\u001b[0m \u001b[0mbeta_0\u001b[0m\u001b[0;34m,\u001b[0m \u001b[0mtau\u001b[0m \u001b[0;34m=\u001b[0m \u001b[0;36m1\u001b[0m\u001b[0;34m)\u001b[0m\u001b[0;34m:\u001b[0m\u001b[0;34m\u001b[0m\u001b[0;34m\u001b[0m\u001b[0m\n\u001b[1;32m      2\u001b[0m     \u001b[0mdirection\u001b[0m \u001b[0;34m=\u001b[0m \u001b[0mLL_1\u001b[0m\u001b[0;34m(\u001b[0m\u001b[0msite_num\u001b[0m\u001b[0;34m,\u001b[0m \u001b[0mk\u001b[0m\u001b[0;34m,\u001b[0m \u001b[0mX\u001b[0m\u001b[0;34m,\u001b[0m \u001b[0mY\u001b[0m\u001b[0;34m,\u001b[0m \u001b[0mmu\u001b[0m\u001b[0;34m,\u001b[0m \u001b[0mbeta_0\u001b[0m\u001b[0;34m,\u001b[0m \u001b[0mtau\u001b[0m\u001b[0;34m)\u001b[0m\u001b[0;34m.\u001b[0m\u001b[0mreshape\u001b[0m\u001b[0;34m(\u001b[0m\u001b[0;36m1\u001b[0m\u001b[0;34m,\u001b[0m\u001b[0mbeta_0\u001b[0m\u001b[0;34m.\u001b[0m\u001b[0mshape\u001b[0m\u001b[0;34m[\u001b[0m\u001b[0;36m0\u001b[0m\u001b[0;34m]\u001b[0m\u001b[0;34m)\u001b[0m \u001b[0;34m@\u001b[0m\u001b[0;31m\\\u001b[0m\u001b[0;34m\u001b[0m\u001b[0;34m\u001b[0m\u001b[0m\n\u001b[0;32m----> 3\u001b[0;31m     \u001b[0minv\u001b[0m\u001b[0;34m(\u001b[0m\u001b[0mLL_2\u001b[0m\u001b[0;34m(\u001b[0m\u001b[0msite_num\u001b[0m\u001b[0;34m,\u001b[0m \u001b[0mk\u001b[0m\u001b[0;34m,\u001b[0m \u001b[0mX\u001b[0m\u001b[0;34m,\u001b[0m \u001b[0mY\u001b[0m\u001b[0;34m,\u001b[0m \u001b[0mmu\u001b[0m\u001b[0;34m,\u001b[0m \u001b[0mbeta_0\u001b[0m\u001b[0;34m,\u001b[0m \u001b[0mtau\u001b[0m\u001b[0;34m)\u001b[0m\u001b[0;34m)\u001b[0m\u001b[0;34m\u001b[0m\u001b[0;34m\u001b[0m\u001b[0m\n\u001b[0m\u001b[1;32m      4\u001b[0m     \u001b[0;32mreturn\u001b[0m \u001b[0mdirection\u001b[0m\u001b[0;34m\u001b[0m\u001b[0;34m\u001b[0m\u001b[0m\n",
      "\u001b[0;32m<ipython-input-962-27cf08c34d91>\u001b[0m in \u001b[0;36mLL_2\u001b[0;34m(site_num, k, X, Y, mu, beta_0, tau)\u001b[0m\n\u001b[1;32m      2\u001b[0m     \u001b[0mLL2\u001b[0m \u001b[0;34m=\u001b[0m \u001b[0;36m0\u001b[0m\u001b[0;34m\u001b[0m\u001b[0;34m\u001b[0m\u001b[0m\n\u001b[1;32m      3\u001b[0m     \u001b[0;32mfor\u001b[0m \u001b[0mi\u001b[0m \u001b[0;32min\u001b[0m \u001b[0mrange\u001b[0m\u001b[0;34m(\u001b[0m\u001b[0msite_num\u001b[0m\u001b[0;34m)\u001b[0m\u001b[0;34m:\u001b[0m\u001b[0;34m\u001b[0m\u001b[0;34m\u001b[0m\u001b[0m\n\u001b[0;32m----> 4\u001b[0;31m         \u001b[0mLL2\u001b[0m \u001b[0;34m+=\u001b[0m \u001b[0mL_2\u001b[0m\u001b[0;34m(\u001b[0m\u001b[0mk\u001b[0m\u001b[0;34m,\u001b[0m \u001b[0mX\u001b[0m\u001b[0;34m[\u001b[0m\u001b[0mi\u001b[0m\u001b[0;34m]\u001b[0m\u001b[0;34m,\u001b[0m \u001b[0mY\u001b[0m\u001b[0;34m[\u001b[0m\u001b[0mi\u001b[0m\u001b[0;34m]\u001b[0m\u001b[0;34m,\u001b[0m \u001b[0mmu\u001b[0m\u001b[0;34m[\u001b[0m\u001b[0mi\u001b[0m\u001b[0;34m]\u001b[0m\u001b[0;34m,\u001b[0m \u001b[0mbeta_0\u001b[0m\u001b[0;34m,\u001b[0m \u001b[0mtau\u001b[0m\u001b[0;34m)\u001b[0m \u001b[0;34m/\u001b[0m \u001b[0mL\u001b[0m\u001b[0;34m(\u001b[0m\u001b[0mk\u001b[0m\u001b[0;34m,\u001b[0m \u001b[0mX\u001b[0m\u001b[0;34m[\u001b[0m\u001b[0mi\u001b[0m\u001b[0;34m]\u001b[0m\u001b[0;34m,\u001b[0m \u001b[0mY\u001b[0m\u001b[0;34m[\u001b[0m\u001b[0mi\u001b[0m\u001b[0;34m]\u001b[0m\u001b[0;34m,\u001b[0m \u001b[0mmu\u001b[0m\u001b[0;34m[\u001b[0m\u001b[0mi\u001b[0m\u001b[0;34m]\u001b[0m\u001b[0;34m,\u001b[0m \u001b[0mbeta_0\u001b[0m\u001b[0;34m,\u001b[0m \u001b[0mtau\u001b[0m\u001b[0;34m)\u001b[0m\u001b[0;34m\u001b[0m\u001b[0;34m\u001b[0m\u001b[0m\n\u001b[0m\u001b[1;32m      5\u001b[0m     \u001b[0mLL1\u001b[0m \u001b[0;34m=\u001b[0m \u001b[0mLL_1\u001b[0m\u001b[0;34m(\u001b[0m\u001b[0msite_num\u001b[0m\u001b[0;34m,\u001b[0m \u001b[0mk\u001b[0m\u001b[0;34m,\u001b[0m \u001b[0mX\u001b[0m\u001b[0;34m,\u001b[0m \u001b[0mY\u001b[0m\u001b[0;34m,\u001b[0m \u001b[0mmu\u001b[0m\u001b[0;34m,\u001b[0m \u001b[0mbeta_0\u001b[0m\u001b[0;34m,\u001b[0m \u001b[0mtau\u001b[0m\u001b[0;34m)\u001b[0m\u001b[0;34m\u001b[0m\u001b[0;34m\u001b[0m\u001b[0m\n\u001b[1;32m      6\u001b[0m     \u001b[0;32mreturn\u001b[0m \u001b[0mLL2\u001b[0m \u001b[0;34m-\u001b[0m \u001b[0mLL1\u001b[0m\u001b[0;34m.\u001b[0m\u001b[0mreshape\u001b[0m\u001b[0;34m(\u001b[0m\u001b[0mLL1\u001b[0m\u001b[0;34m.\u001b[0m\u001b[0mshape\u001b[0m\u001b[0;34m[\u001b[0m\u001b[0;36m0\u001b[0m\u001b[0;34m]\u001b[0m\u001b[0;34m,\u001b[0m\u001b[0;36m1\u001b[0m\u001b[0;34m)\u001b[0m \u001b[0;34m@\u001b[0m \u001b[0mLL1\u001b[0m\u001b[0;34m.\u001b[0m\u001b[0mreshape\u001b[0m\u001b[0;34m(\u001b[0m\u001b[0;36m1\u001b[0m\u001b[0;34m,\u001b[0m\u001b[0mLL1\u001b[0m\u001b[0;34m.\u001b[0m\u001b[0mshape\u001b[0m\u001b[0;34m[\u001b[0m\u001b[0;36m0\u001b[0m\u001b[0;34m]\u001b[0m\u001b[0;34m)\u001b[0m\u001b[0;34m\u001b[0m\u001b[0;34m\u001b[0m\u001b[0m\n",
      "\u001b[0;32m<ipython-input-960-7819fd26e2bd>\u001b[0m in \u001b[0;36mL_2\u001b[0;34m(k, x, y, mu, beta_0, tau)\u001b[0m\n\u001b[1;32m      7\u001b[0m             \u001b[0mboogie\u001b[0m \u001b[0;34m+=\u001b[0m \u001b[0;34m-\u001b[0m\u001b[0mx\u001b[0m\u001b[0;34m[\u001b[0m\u001b[0mj\u001b[0m\u001b[0;34m]\u001b[0m\u001b[0;34m.\u001b[0m\u001b[0mreshape\u001b[0m\u001b[0;34m(\u001b[0m\u001b[0mx\u001b[0m\u001b[0;34m[\u001b[0m\u001b[0mj\u001b[0m\u001b[0;34m]\u001b[0m\u001b[0;34m.\u001b[0m\u001b[0mshape\u001b[0m\u001b[0;34m[\u001b[0m\u001b[0;36m0\u001b[0m\u001b[0;34m]\u001b[0m\u001b[0;34m,\u001b[0m\u001b[0;36m1\u001b[0m\u001b[0;34m)\u001b[0m \u001b[0;34m@\u001b[0m\u001b[0;31m\\\u001b[0m\u001b[0;34m\u001b[0m\u001b[0;34m\u001b[0m\u001b[0m\n\u001b[1;32m      8\u001b[0m             Pi_1(x[j], beta_0, mu + np.sqrt(2 * np.pi) *\\\n\u001b[0;32m----> 9\u001b[0;31m                  omega(x, y, mu, beta_0, tau) * x_k[i]).reshape(1,x[j].shape[0])\n\u001b[0m\u001b[1;32m     10\u001b[0m         \u001b[0mL2\u001b[0m \u001b[0;34m+=\u001b[0m \u001b[0mnp\u001b[0m\u001b[0;34m.\u001b[0m\u001b[0msqrt\u001b[0m\u001b[0;34m(\u001b[0m\u001b[0;36m2\u001b[0m \u001b[0;34m*\u001b[0m \u001b[0mnp\u001b[0m\u001b[0;34m.\u001b[0m\u001b[0mpi\u001b[0m\u001b[0;34m)\u001b[0m \u001b[0;34m*\u001b[0m \u001b[0momega\u001b[0m\u001b[0;34m(\u001b[0m\u001b[0mx\u001b[0m\u001b[0;34m,\u001b[0m \u001b[0my\u001b[0m\u001b[0;34m,\u001b[0m \u001b[0mmu\u001b[0m\u001b[0;34m,\u001b[0m \u001b[0mbeta_0\u001b[0m\u001b[0;34m)\u001b[0m \u001b[0;34m*\u001b[0m\u001b[0;31m\\\u001b[0m\u001b[0;34m\u001b[0m\u001b[0;34m\u001b[0m\u001b[0m\n\u001b[1;32m     11\u001b[0m         (f_k(k, x, y, mu, beta_0, tau = tau)[i] *\\\n",
      "\u001b[0;32m<ipython-input-955-c819c9174085>\u001b[0m in \u001b[0;36momega\u001b[0;34m(x, y, mu, beta_0, tau)\u001b[0m\n\u001b[1;32m      1\u001b[0m \u001b[0;32mdef\u001b[0m \u001b[0momega\u001b[0m\u001b[0;34m(\u001b[0m\u001b[0mx\u001b[0m\u001b[0;34m,\u001b[0m \u001b[0my\u001b[0m\u001b[0;34m,\u001b[0m \u001b[0mmu\u001b[0m\u001b[0;34m,\u001b[0m \u001b[0mbeta_0\u001b[0m\u001b[0;34m,\u001b[0m \u001b[0mtau\u001b[0m \u001b[0;34m=\u001b[0m \u001b[0;36m1\u001b[0m\u001b[0;34m)\u001b[0m\u001b[0;34m:\u001b[0m\u001b[0;34m\u001b[0m\u001b[0;34m\u001b[0m\u001b[0m\n\u001b[0;32m----> 2\u001b[0;31m     \u001b[0;32mreturn\u001b[0m \u001b[0mnp\u001b[0m\u001b[0;34m.\u001b[0m\u001b[0msqrt\u001b[0m\u001b[0;34m(\u001b[0m\u001b[0;34m-\u001b[0m\u001b[0;36m1\u001b[0m\u001b[0;34m/\u001b[0m\u001b[0mg_2\u001b[0m\u001b[0;34m(\u001b[0m\u001b[0mx\u001b[0m\u001b[0;34m,\u001b[0m \u001b[0my\u001b[0m\u001b[0;34m,\u001b[0m \u001b[0mmu\u001b[0m\u001b[0;34m,\u001b[0m \u001b[0mbeta_0\u001b[0m\u001b[0;34m)\u001b[0m\u001b[0;34m)\u001b[0m\u001b[0;34m\u001b[0m\u001b[0;34m\u001b[0m\u001b[0m\n\u001b[0m",
      "\u001b[0;32m<ipython-input-953-369c57da3228>\u001b[0m in \u001b[0;36mg_2\u001b[0;34m(x, y, mu, beta_0, tau)\u001b[0m\n\u001b[1;32m      1\u001b[0m \u001b[0;32mdef\u001b[0m \u001b[0mg_2\u001b[0m\u001b[0;34m(\u001b[0m\u001b[0mx\u001b[0m\u001b[0;34m,\u001b[0m \u001b[0my\u001b[0m\u001b[0;34m,\u001b[0m \u001b[0mmu\u001b[0m\u001b[0;34m,\u001b[0m \u001b[0mbeta_0\u001b[0m\u001b[0;34m,\u001b[0m \u001b[0mtau\u001b[0m \u001b[0;34m=\u001b[0m \u001b[0;36m1\u001b[0m\u001b[0;34m)\u001b[0m\u001b[0;34m:\u001b[0m\u001b[0;34m\u001b[0m\u001b[0;34m\u001b[0m\u001b[0m\n\u001b[0;32m----> 2\u001b[0;31m     \u001b[0;32mreturn\u001b[0m \u001b[0msum\u001b[0m\u001b[0;34m(\u001b[0m\u001b[0;34m-\u001b[0m \u001b[0mnp\u001b[0m\u001b[0;34m.\u001b[0m\u001b[0masarray\u001b[0m\u001b[0;34m(\u001b[0m\u001b[0;34m(\u001b[0m\u001b[0mnp\u001b[0m\u001b[0;34m.\u001b[0m\u001b[0mexp\u001b[0m\u001b[0;34m(\u001b[0m\u001b[0mx\u001b[0m \u001b[0;34m@\u001b[0m \u001b[0mbeta_0\u001b[0m \u001b[0;34m+\u001b[0m \u001b[0mmu\u001b[0m\u001b[0;34m)\u001b[0m \u001b[0;34m/\u001b[0m \u001b[0;34m(\u001b[0m\u001b[0;36m1\u001b[0m \u001b[0;34m+\u001b[0m \u001b[0mnp\u001b[0m\u001b[0;34m.\u001b[0m\u001b[0mexp\u001b[0m\u001b[0;34m(\u001b[0m\u001b[0mx\u001b[0m \u001b[0;34m@\u001b[0m \u001b[0mbeta_0\u001b[0m \u001b[0;34m+\u001b[0m \u001b[0mmu\u001b[0m\u001b[0;34m)\u001b[0m\u001b[0;34m)\u001b[0m\u001b[0;34m**\u001b[0m\u001b[0;36m2\u001b[0m\u001b[0;34m)\u001b[0m\u001b[0;34m)\u001b[0m\u001b[0;34m)\u001b[0m \u001b[0;34m-\u001b[0m \u001b[0mmu\u001b[0m\u001b[0;34m/\u001b[0m\u001b[0mtau\u001b[0m\u001b[0;34m**\u001b[0m\u001b[0;36m2\u001b[0m\u001b[0;34m\u001b[0m\u001b[0;34m\u001b[0m\u001b[0m\n\u001b[0m",
      "\u001b[0;31mKeyboardInterrupt\u001b[0m: "
     ]
    }
   ],
   "source": [
    "beta_0 = np.repeat(0.1, 10).reshape(10,1)\n",
    "# betea_0 = true_beta\n",
    "mu = [0, 0]\n",
    "X = [X1, X2]\n",
    "Y = [y1, y2]\n",
    "k = 5\n",
    "tau = 1\n",
    "print('Initial beta:', beta_0, \"\\n\")\n",
    "for step in range(10):\n",
    "    print('Step ', step+1, ':\\n')\n",
    "    for i in range(len(mu)): \n",
    "        mu[i] = max_mu(X[i], y[i], mu[i], beta_0)\n",
    "    for substep in range(100):\n",
    "        print('Mu:\\n', mu, '\\n')\n",
    "        new_beta = beta_0 - update(len(mu), k, X, Y, mu, beta_0).reshape(beta_0.shape[0],1)\n",
    "        delta = new_beta - beta_0\n",
    "        beta_0 = new_beta\n",
    "        print('Beta:\\n', beta_0, '\\n')\n",
    "        print('Delta:\\n', delta, '\\n')"
   ]
  },
  {
   "cell_type": "code",
   "execution_count": 937,
   "metadata": {},
   "outputs": [
    {
     "data": {
      "text/plain": [
       "array([[-0.0217251 ],\n",
       "       [ 0.35104993],\n",
       "       [-2.04337875],\n",
       "       [-5.75784864],\n",
       "       [ 1.19368298],\n",
       "       [-5.78128915],\n",
       "       [-2.31044591],\n",
       "       [-2.13129101],\n",
       "       [ 2.56380536],\n",
       "       [ 3.40715245]])"
      ]
     },
     "execution_count": 937,
     "metadata": {},
     "output_type": "execute_result"
    }
   ],
   "source": [
    "true_beta"
   ]
  },
  {
   "cell_type": "code",
   "execution_count": 938,
   "metadata": {},
   "outputs": [
    {
     "data": {
      "text/plain": [
       "array([0.80074457, 0.96826158])"
      ]
     },
     "execution_count": 938,
     "metadata": {},
     "output_type": "execute_result"
    }
   ],
   "source": [
    "true_sigma"
   ]
  },
  {
   "cell_type": "code",
   "execution_count": null,
   "metadata": {},
   "outputs": [],
   "source": []
  },
  {
   "cell_type": "code",
   "execution_count": null,
   "metadata": {},
   "outputs": [],
   "source": []
  },
  {
   "cell_type": "code",
   "execution_count": null,
   "metadata": {},
   "outputs": [],
   "source": []
  },
  {
   "cell_type": "code",
   "execution_count": null,
   "metadata": {},
   "outputs": [],
   "source": []
  },
  {
   "cell_type": "code",
   "execution_count": null,
   "metadata": {},
   "outputs": [],
   "source": []
  },
  {
   "cell_type": "code",
   "execution_count": null,
   "metadata": {},
   "outputs": [],
   "source": []
  },
  {
   "cell_type": "code",
   "execution_count": null,
   "metadata": {},
   "outputs": [],
   "source": []
  },
  {
   "cell_type": "code",
   "execution_count": null,
   "metadata": {},
   "outputs": [],
   "source": []
  },
  {
   "cell_type": "code",
   "execution_count": null,
   "metadata": {},
   "outputs": [],
   "source": []
  },
  {
   "cell_type": "code",
   "execution_count": null,
   "metadata": {},
   "outputs": [],
   "source": []
  },
  {
   "cell_type": "code",
   "execution_count": null,
   "metadata": {},
   "outputs": [],
   "source": []
  },
  {
   "cell_type": "code",
   "execution_count": null,
   "metadata": {},
   "outputs": [],
   "source": []
  },
  {
   "cell_type": "code",
   "execution_count": null,
   "metadata": {},
   "outputs": [],
   "source": []
  },
  {
   "cell_type": "code",
   "execution_count": null,
   "metadata": {},
   "outputs": [],
   "source": []
  },
  {
   "cell_type": "code",
   "execution_count": null,
   "metadata": {},
   "outputs": [],
   "source": []
  },
  {
   "cell_type": "code",
   "execution_count": null,
   "metadata": {},
   "outputs": [],
   "source": []
  },
  {
   "cell_type": "code",
   "execution_count": null,
   "metadata": {},
   "outputs": [],
   "source": []
  },
  {
   "cell_type": "code",
   "execution_count": null,
   "metadata": {},
   "outputs": [],
   "source": []
  },
  {
   "cell_type": "code",
   "execution_count": null,
   "metadata": {},
   "outputs": [],
   "source": []
  },
  {
   "cell_type": "code",
   "execution_count": null,
   "metadata": {},
   "outputs": [],
   "source": []
  },
  {
   "cell_type": "markdown",
   "metadata": {},
   "source": [
    "# The followings are NOT true"
   ]
  },
  {
   "cell_type": "markdown",
   "metadata": {},
   "source": [
    "## Step 1: Combine data to generate golden rules"
   ]
  },
  {
   "cell_type": "code",
   "execution_count": 564,
   "metadata": {},
   "outputs": [],
   "source": [
    "col = []\n",
    "for i in range(10): col += ['V'+str(i+1)]\n",
    "X1 = pd.DataFrame(X1, columns=col)\n",
    "X2 = pd.DataFrame(X2, columns=col)\n",
    "# X = pd.concat([X1, X2], ignore_index = True)\n",
    "y = np.concatenate((y1, y2))"
   ]
  },
  {
   "cell_type": "markdown",
   "metadata": {},
   "source": [
    "Notation for $\\pi_{ij}$:\n",
    "\n",
    "$$\\pi_{ij} = \\dfrac{\\exp{(X_{ij}^\\top\\beta_0})}{1 + \\exp{(X_{ij}^\\top\\beta_0})}$$"
   ]
  },
  {
   "cell_type": "code",
   "execution_count": 566,
   "metadata": {},
   "outputs": [],
   "source": [
    "def Pi(x, beta_0):\n",
    "    return np.asarray((np.exp(x @ beta_0) / (1 + np.exp(x @ beta_0)))) #need to add /mu_{i0}?"
   ]
  },
  {
   "cell_type": "markdown",
   "metadata": {},
   "source": [
    "Notation for $L_1$:\n",
    "\n",
    "$$L_1 = \\sum_{j=1}^{n_i}(y_{ij}X_{ij}-\\pi_{ij}X_{ij})$$"
   ]
  },
  {
   "cell_type": "code",
   "execution_count": 567,
   "metadata": {},
   "outputs": [],
   "source": [
    "def L_1(x, y, beta_0):\n",
    "    return np.expand_dims(np.asarray((y * x - Pi(x, beta_0) * x).sum(axis = 0)), axis=1)"
   ]
  },
  {
   "cell_type": "markdown",
   "metadata": {},
   "source": [
    "Notation for $L_2$:\n",
    "\n",
    "$$L_2 = - \\sum_{j=1}^{n_i}[\\pi_{ij}(1-\\pi_{ij})X_{ij}X_{ij}^\\top]$$"
   ]
  },
  {
   "cell_type": "code",
   "execution_count": 568,
   "metadata": {},
   "outputs": [],
   "source": [
    "def L_2(x, y, beta_0):\n",
    "    XX = 0\n",
    "    p = Pi(x, beta_0) * (1- Pi(x, beta_0))\n",
    "    for i in range(x.shape[0]):\n",
    "#         XX += p[i] * ((np.asarray(x.iloc[i,:]).reshape(x.shape[1],1)))**2 \n",
    "        XX += p[i] * (np.asarray(x.iloc[i,:]).reshape(x.shape[1],1) \\\n",
    "        @ np.asarray(x.iloc[i,:]).reshape(x.shape[1],1).transpose())\n",
    "    L2 = -XX\n",
    "    return L2"
   ]
  },
  {
   "cell_type": "code",
   "execution_count": 588,
   "metadata": {},
   "outputs": [],
   "source": [
    "beta_0 = np.repeat(0, 10).reshape(10,1)"
   ]
  },
  {
   "cell_type": "code",
   "execution_count": 589,
   "metadata": {},
   "outputs": [
    {
     "name": "stdout",
     "output_type": "stream",
     "text": [
      "Initial beta: [[0]\n",
      " [0]\n",
      " [0]\n",
      " [0]\n",
      " [0]\n",
      " [0]\n",
      " [0]\n",
      " [0]\n",
      " [0]\n",
      " [0]] \n",
      "\n",
      "Step  1 :\n",
      "\n",
      "Beta:\n",
      " [[0.10817893]\n",
      " [0.15577158]\n",
      " [0.04324669]\n",
      " [0.0087236 ]\n",
      " [0.11681485]\n",
      " [0.05317466]\n",
      " [0.07200324]\n",
      " [0.17340093]\n",
      " [0.20606506]\n",
      " [0.11675683]] \n",
      "\n",
      "Delta:\n",
      " [[0.10817893]\n",
      " [0.15577158]\n",
      " [0.04324669]\n",
      " [0.0087236 ]\n",
      " [0.11681485]\n",
      " [0.05317466]\n",
      " [0.07200324]\n",
      " [0.17340093]\n",
      " [0.20606506]\n",
      " [0.11675683]] \n",
      "\n",
      "Step  2 :\n",
      "\n",
      "Beta:\n",
      " [[0.19600777]\n",
      " [0.28432322]\n",
      " [0.08468478]\n",
      " [0.01946106]\n",
      " [0.208629  ]\n",
      " [0.10041206]\n",
      " [0.13746322]\n",
      " [0.31760525]\n",
      " [0.37452347]\n",
      " [0.20956382]] \n",
      "\n",
      "Delta:\n",
      " [[0.08782883]\n",
      " [0.12855163]\n",
      " [0.04143809]\n",
      " [0.01073746]\n",
      " [0.09181415]\n",
      " [0.0472374 ]\n",
      " [0.06545998]\n",
      " [0.14420433]\n",
      " [0.16845841]\n",
      " [0.092807  ]] \n",
      "\n",
      "Step  3 :\n",
      "\n",
      "Beta:\n",
      " [[0.29079494]\n",
      " [0.4264849 ]\n",
      " [0.13218002]\n",
      " [0.03452087]\n",
      " [0.30504341]\n",
      " [0.15209478]\n",
      " [0.20653688]\n",
      " [0.47079855]\n",
      " [0.55824349]\n",
      " [0.30929157]] \n",
      "\n",
      "Delta:\n",
      " [[0.09478717]\n",
      " [0.14216169]\n",
      " [0.04749524]\n",
      " [0.01505981]\n",
      " [0.09641441]\n",
      " [0.05168272]\n",
      " [0.06907365]\n",
      " [0.15319329]\n",
      " [0.18372002]\n",
      " [0.09972775]] \n",
      "\n",
      "Step  4 :\n",
      "\n",
      "Beta:\n",
      " [[0.37268597]\n",
      " [0.55249436]\n",
      " [0.17506137]\n",
      " [0.04860314]\n",
      " [0.38882623]\n",
      " [0.19589843]\n",
      " [0.26537475]\n",
      " [0.60209773]\n",
      " [0.71876398]\n",
      " [0.39640909]] \n",
      "\n",
      "Delta:\n",
      " [[0.08189104]\n",
      " [0.12600945]\n",
      " [0.04288135]\n",
      " [0.01408227]\n",
      " [0.08378282]\n",
      " [0.04380364]\n",
      " [0.05883787]\n",
      " [0.13129919]\n",
      " [0.16052048]\n",
      " [0.08711752]] \n",
      "\n",
      "Step  5 :\n",
      "\n",
      "Beta:\n",
      " [[0.41442631]\n",
      " [0.61769918]\n",
      " [0.19719889]\n",
      " [0.05551219]\n",
      " [0.43176629]\n",
      " [0.21779285]\n",
      " [0.29498658]\n",
      " [0.66837577]\n",
      " [0.80081798]\n",
      " [0.44116487]] \n",
      "\n",
      "Delta:\n",
      " [[0.04174034]\n",
      " [0.06520483]\n",
      " [0.02213752]\n",
      " [0.00690905]\n",
      " [0.04294006]\n",
      " [0.02189443]\n",
      " [0.02961183]\n",
      " [0.06627803]\n",
      " [0.082054  ]\n",
      " [0.04475578]] \n",
      "\n",
      "Step  6 :\n",
      "\n",
      "Beta:\n",
      " [[0.42181674]\n",
      " [0.62932716]\n",
      " [0.20111243]\n",
      " [0.05665051]\n",
      " [0.43937174]\n",
      " [0.22162358]\n",
      " [0.30017966]\n",
      " [0.68001879]\n",
      " [0.8153507 ]\n",
      " [0.44912784]] \n",
      "\n",
      "Delta:\n",
      " [[0.00739042]\n",
      " [0.01162798]\n",
      " [0.00391354]\n",
      " [0.00113832]\n",
      " [0.00760545]\n",
      " [0.00383072]\n",
      " [0.00519308]\n",
      " [0.01164303]\n",
      " [0.01453272]\n",
      " [0.00796297]] \n",
      "\n",
      "Step  7 :\n",
      "\n",
      "Beta:\n",
      " [[0.42200247]\n",
      " [0.62962061]\n",
      " [0.2012104 ]\n",
      " [0.05667725]\n",
      " [0.43956273]\n",
      " [0.22171921]\n",
      " [0.30030938]\n",
      " [0.68030997]\n",
      " [0.81571617]\n",
      " [0.44932871]] \n",
      "\n",
      "Delta:\n",
      " [[1.85737709e-04]\n",
      " [2.93445565e-04]\n",
      " [9.79748486e-05]\n",
      " [2.67409921e-05]\n",
      " [1.90987665e-04]\n",
      " [9.56353279e-05]\n",
      " [1.29719070e-04]\n",
      " [2.91172914e-04]\n",
      " [3.65463916e-04]\n",
      " [2.00879122e-04]] \n",
      "\n",
      "Step  8 :\n",
      "\n",
      "Beta:\n",
      " [[0.42200259]\n",
      " [0.62962079]\n",
      " [0.20121046]\n",
      " [0.05667727]\n",
      " [0.43956285]\n",
      " [0.22171927]\n",
      " [0.30030946]\n",
      " [0.68031014]\n",
      " [0.81571639]\n",
      " [0.44932884]] \n",
      "\n",
      "Delta:\n",
      " [[1.12627960e-07]\n",
      " [1.78480447e-07]\n",
      " [5.92430161e-08]\n",
      " [1.53699913e-08]\n",
      " [1.15757067e-07]\n",
      " [5.77587594e-08]\n",
      " [7.83595653e-08]\n",
      " [1.76008682e-07]\n",
      " [2.21801328e-07]\n",
      " [1.22164526e-07]] \n",
      "\n",
      "Step  9 :\n",
      "\n",
      "Beta:\n",
      " [[0.42200259]\n",
      " [0.62962079]\n",
      " [0.20121046]\n",
      " [0.05667727]\n",
      " [0.43956285]\n",
      " [0.22171927]\n",
      " [0.30030946]\n",
      " [0.68031014]\n",
      " [0.81571639]\n",
      " [0.44932884]] \n",
      "\n",
      "Delta:\n",
      " [[4.13558077e-14]\n",
      " [6.57252031e-14]\n",
      " [2.17048601e-14]\n",
      " [5.41927614e-15]\n",
      " [4.24660307e-14]\n",
      " [2.11497486e-14]\n",
      " [2.86437540e-14]\n",
      " [6.45039577e-14]\n",
      " [8.13793477e-14]\n",
      " [4.49085213e-14]] \n",
      "\n",
      "Step  10 :\n",
      "\n",
      "Beta:\n",
      " [[0.42200259]\n",
      " [0.62962079]\n",
      " [0.20121046]\n",
      " [0.05667727]\n",
      " [0.43956285]\n",
      " [0.22171927]\n",
      " [0.30030946]\n",
      " [0.68031014]\n",
      " [0.81571639]\n",
      " [0.44932884]] \n",
      "\n",
      "Delta:\n",
      " [[ 0.00000000e+00]\n",
      " [ 0.00000000e+00]\n",
      " [ 0.00000000e+00]\n",
      " [-6.93889390e-18]\n",
      " [ 0.00000000e+00]\n",
      " [ 0.00000000e+00]\n",
      " [ 0.00000000e+00]\n",
      " [ 0.00000000e+00]\n",
      " [ 0.00000000e+00]\n",
      " [-5.55111512e-17]] \n",
      "\n",
      "Step  11 :\n",
      "\n",
      "Beta:\n",
      " [[0.42200259]\n",
      " [0.62962079]\n",
      " [0.20121046]\n",
      " [0.05667727]\n",
      " [0.43956285]\n",
      " [0.22171927]\n",
      " [0.30030946]\n",
      " [0.68031014]\n",
      " [0.81571639]\n",
      " [0.44932884]] \n",
      "\n",
      "Delta:\n",
      " [[ 0.00000000e+00]\n",
      " [-1.11022302e-16]\n",
      " [-2.77555756e-17]\n",
      " [-2.08166817e-17]\n",
      " [ 0.00000000e+00]\n",
      " [ 0.00000000e+00]\n",
      " [ 0.00000000e+00]\n",
      " [ 0.00000000e+00]\n",
      " [ 0.00000000e+00]\n",
      " [ 0.00000000e+00]] \n",
      "\n",
      "Step  12 :\n",
      "\n",
      "Beta:\n",
      " [[0.42200259]\n",
      " [0.62962079]\n",
      " [0.20121046]\n",
      " [0.05667727]\n",
      " [0.43956285]\n",
      " [0.22171927]\n",
      " [0.30030946]\n",
      " [0.68031014]\n",
      " [0.81571639]\n",
      " [0.44932884]] \n",
      "\n",
      "Delta:\n",
      " [[-5.55111512e-17]\n",
      " [-1.11022302e-16]\n",
      " [-2.77555756e-17]\n",
      " [ 0.00000000e+00]\n",
      " [-5.55111512e-17]\n",
      " [-5.55111512e-17]\n",
      " [-5.55111512e-17]\n",
      " [-1.11022302e-16]\n",
      " [-1.11022302e-16]\n",
      " [-5.55111512e-17]] \n",
      "\n",
      "Step  13 :\n",
      "\n",
      "Beta:\n",
      " [[0.42200259]\n",
      " [0.62962079]\n",
      " [0.20121046]\n",
      " [0.05667727]\n",
      " [0.43956285]\n",
      " [0.22171927]\n",
      " [0.30030946]\n",
      " [0.68031014]\n",
      " [0.81571639]\n",
      " [0.44932884]] \n",
      "\n",
      "Delta:\n",
      " [[0.00000000e+00]\n",
      " [1.11022302e-16]\n",
      " [2.77555756e-17]\n",
      " [6.93889390e-18]\n",
      " [0.00000000e+00]\n",
      " [2.77555756e-17]\n",
      " [0.00000000e+00]\n",
      " [0.00000000e+00]\n",
      " [0.00000000e+00]\n",
      " [0.00000000e+00]] \n",
      "\n",
      "Step  14 :\n",
      "\n",
      "Beta:\n",
      " [[0.42200259]\n",
      " [0.62962079]\n",
      " [0.20121046]\n",
      " [0.05667727]\n",
      " [0.43956285]\n",
      " [0.22171927]\n",
      " [0.30030946]\n",
      " [0.68031014]\n",
      " [0.81571639]\n",
      " [0.44932884]] \n",
      "\n",
      "Delta:\n",
      " [[5.55111512e-17]\n",
      " [0.00000000e+00]\n",
      " [2.77555756e-17]\n",
      " [6.93889390e-18]\n",
      " [0.00000000e+00]\n",
      " [0.00000000e+00]\n",
      " [5.55111512e-17]\n",
      " [0.00000000e+00]\n",
      " [0.00000000e+00]\n",
      " [5.55111512e-17]] \n",
      "\n",
      "Step  15 :\n",
      "\n",
      "Beta:\n",
      " [[0.42200259]\n",
      " [0.62962079]\n",
      " [0.20121046]\n",
      " [0.05667727]\n",
      " [0.43956285]\n",
      " [0.22171927]\n",
      " [0.30030946]\n",
      " [0.68031014]\n",
      " [0.81571639]\n",
      " [0.44932884]] \n",
      "\n",
      "Delta:\n",
      " [[0.00000000e+00]\n",
      " [0.00000000e+00]\n",
      " [0.00000000e+00]\n",
      " [0.00000000e+00]\n",
      " [5.55111512e-17]\n",
      " [2.77555756e-17]\n",
      " [0.00000000e+00]\n",
      " [1.11022302e-16]\n",
      " [1.11022302e-16]\n",
      " [0.00000000e+00]] \n",
      "\n",
      "Step  16 :\n",
      "\n",
      "Beta:\n",
      " [[0.42200259]\n",
      " [0.62962079]\n",
      " [0.20121046]\n",
      " [0.05667727]\n",
      " [0.43956285]\n",
      " [0.22171927]\n",
      " [0.30030946]\n",
      " [0.68031014]\n",
      " [0.81571639]\n",
      " [0.44932884]] \n",
      "\n",
      "Delta:\n",
      " [[0.]\n",
      " [0.]\n",
      " [0.]\n",
      " [0.]\n",
      " [0.]\n",
      " [0.]\n",
      " [0.]\n",
      " [0.]\n",
      " [0.]\n",
      " [0.]] \n",
      "\n"
     ]
    }
   ],
   "source": [
    "print('Initial beta:', beta_0, \"\\n\")\n",
    "for i in range(100):\n",
    "    print('Step ', i+1, ':\\n')\n",
    "    beta_0\n",
    "    beta_new = beta_0 - inv(L_2(X1, y1, beta_0) + L_2(X2, y2, beta_0)) \\\n",
    "    @ (L_1(X1, y1, beta_0) + L_1(X2, y2, beta_0))\n",
    "    delta = beta_new - beta_0\n",
    "    beta_0 = beta_new\n",
    "    print('Beta:\\n', beta_0, '\\n')\n",
    "    print('Delta:\\n', delta, '\\n')\n",
    "    if (max(np.abs(delta)) == 0):\n",
    "        break;"
   ]
  },
  {
   "cell_type": "code",
   "execution_count": 591,
   "metadata": {},
   "outputs": [
    {
     "data": {
      "text/plain": [
       "array([[-2017.92540591,   278.96089871,    55.13581563,    42.00608349,\n",
       "           48.96279807,   210.41011784,   147.62714793,   352.95317426,\n",
       "          260.13291691,    53.38371126],\n",
       "       [  278.96089871, -1882.57363095,   104.82882103,   -71.34377803,\n",
       "          332.49827995,   -40.34237896,   356.65541555,   265.13382507,\n",
       "          523.47528537,   316.84156834],\n",
       "       [   55.13581563,   104.82882103, -2018.44299488,   -17.02955605,\n",
       "          -58.167005  ,    96.91290635,   -21.95912822,    81.27766099,\n",
       "          252.23937134,   165.53816921],\n",
       "       [   42.00608349,   -71.34377803,   -17.02955605, -1945.83029471,\n",
       "           63.59659857,    38.07785122,    34.52403033,    49.45718014,\n",
       "           84.64072536,    18.7808896 ],\n",
       "       [   48.96279807,   332.49827995,   -58.167005  ,    63.59659857,\n",
       "        -1959.36670765,    62.41459172,    57.82157479,   327.73823271,\n",
       "          304.5362868 ,   118.92167227],\n",
       "       [  210.41011784,   -40.34237896,    96.91290635,    38.07785122,\n",
       "           62.41459172, -2138.7555936 ,   147.44532336,    20.86502362,\n",
       "          309.24696103,    35.77874341],\n",
       "       [  147.62714793,   356.65541555,   -21.95912822,    34.52403033,\n",
       "           57.82157479,   147.44532336, -1984.62060979,   136.9308401 ,\n",
       "           94.2367146 ,    81.69952782],\n",
       "       [  352.95317426,   265.13382507,    81.27766099,    49.45718014,\n",
       "          327.73823271,    20.86502362,   136.9308401 , -1843.78467883,\n",
       "          501.73291147,   396.18460466],\n",
       "       [  260.13291691,   523.47528537,   252.23937134,    84.64072536,\n",
       "          304.5362868 ,   309.24696103,    94.2367146 ,   501.73291147,\n",
       "        -1637.42767434,   294.30687323],\n",
       "       [   53.38371126,   316.84156834,   165.53816921,    18.7808896 ,\n",
       "          118.92167227,    35.77874341,    81.69952782,   396.18460466,\n",
       "          294.30687323, -2072.21904408]])"
      ]
     },
     "execution_count": 591,
     "metadata": {},
     "output_type": "execute_result"
    }
   ],
   "source": [
    "L_2(X1, y1, beta_0)+L_2(X2, y2, beta_0)"
   ]
  },
  {
   "cell_type": "code",
   "execution_count": 550,
   "metadata": {},
   "outputs": [
    {
     "data": {
      "text/plain": [
       "array([[-4140.35624389],\n",
       "       [-4107.14077318],\n",
       "       [-4096.38366046],\n",
       "       [-4070.5526563 ],\n",
       "       [-3959.86346214],\n",
       "       [-4006.78389039],\n",
       "       [-3930.36488249],\n",
       "       [-4527.7504776 ],\n",
       "       [-3984.77596394],\n",
       "       [-4300.38682221]])"
      ]
     },
     "execution_count": 550,
     "metadata": {},
     "output_type": "execute_result"
    }
   ],
   "source": [
    "L_2(X1, y1, beta_0)"
   ]
  },
  {
   "cell_type": "code",
   "execution_count": 565,
   "metadata": {},
   "outputs": [
    {
     "data": {
      "text/plain": [
       "array([[-0.0217251 ],\n",
       "       [ 0.35104993],\n",
       "       [-2.04337875],\n",
       "       [-5.75784864],\n",
       "       [ 1.19368298],\n",
       "       [-5.78128915],\n",
       "       [-2.31044591],\n",
       "       [-2.13129101],\n",
       "       [ 2.56380536],\n",
       "       [ 3.40715245]])"
      ]
     },
     "execution_count": 565,
     "metadata": {},
     "output_type": "execute_result"
    }
   ],
   "source": [
    "true_beta"
   ]
  },
  {
   "cell_type": "code",
   "execution_count": 587,
   "metadata": {},
   "outputs": [
    {
     "data": {
      "text/plain": [
       "array([[-0.10817893],\n",
       "       [-0.15577158],\n",
       "       [-0.04324669],\n",
       "       [-0.0087236 ],\n",
       "       [-0.11681485],\n",
       "       [-0.05317466],\n",
       "       [-0.07200324],\n",
       "       [-0.17340093],\n",
       "       [-0.20606506],\n",
       "       [-0.11675683]])"
      ]
     },
     "execution_count": 587,
     "metadata": {},
     "output_type": "execute_result"
    }
   ],
   "source": [
    "inv(L_2(X1, y1, beta_0) + L_2(X2, y2, beta_0)) @ (L_1(X1, y1, beta_0) + L_1(X2, y2, beta_0))"
   ]
  },
  {
   "cell_type": "code",
   "execution_count": null,
   "metadata": {},
   "outputs": [],
   "source": []
  }
 ],
 "metadata": {
  "kernelspec": {
   "display_name": "Python 3",
   "language": "python",
   "name": "python3"
  },
  "language_info": {
   "codemirror_mode": {
    "name": "ipython",
    "version": 3
   },
   "file_extension": ".py",
   "mimetype": "text/x-python",
   "name": "python",
   "nbconvert_exporter": "python",
   "pygments_lexer": "ipython3",
   "version": "3.7.4"
  }
 },
 "nbformat": 4,
 "nbformat_minor": 2
}
