{
 "cells": [
  {
   "cell_type": "code",
   "execution_count": 1,
   "metadata": {},
   "outputs": [],
   "source": [
    "from GLMM_LA import *"
   ]
  },
  {
   "cell_type": "code",
   "execution_count": 2,
   "metadata": {},
   "outputs": [],
   "source": [
    "##################### Simulation with Penn ############################\n",
    "import os\n",
    "truth = np.array([-1.5,0.1,-0.5,-0.3,0.4,-0.2,-0.25,0.35,-0.1,0.5]).reshape(10, 1)\n",
    "var_name = []\n",
    "for i in range(10):\n",
    "    var_name += ['X' + str(i+1)]\n",
    "import sys"
   ]
  },
  {
   "cell_type": "code",
   "execution_count": 5,
   "metadata": {},
   "outputs": [],
   "source": [
    "file_dir = '../Simulation_data_GLMM/Setting_2/'\n",
    "f = '2Sites_500PatientsEachSite_LargeVar4_Dataset1.csv'\n",
    "df = pd.read_csv(file_dir + f, index_col=0)\n",
    "# Load data\n",
    "data1 = np.array(df[df['Site_ID'] == 1][var_name])\n",
    "data2 = np.array(df[df['Site_ID'] == 2][var_name])\n",
    "data = [data1, data2]\n",
    "out1 = np.array(df[df['Site_ID'] == 1]['y']).reshape(500,1)\n",
    "out2 = np.array(df[df['Site_ID'] == 2]['y']).reshape(500,1)\n",
    "out = [out1, out2]"
   ]
  },
  {
   "cell_type": "code",
   "execution_count": 6,
   "metadata": {},
   "outputs": [
    {
     "name": "stderr",
     "output_type": "stream",
     "text": [
      "/Users/wli17/Documents/GLMM/GLMM/GLMM_LA.py:29: RuntimeWarning: overflow encountered in exp\n",
      "  result = np.nan_to_num(- np.asarray((np.exp(x @ beta_0 + mu) / (1 + np.exp(x @ beta_0 + mu)) ** 2)), nan=0)\n",
      "/Users/wli17/Documents/GLMM/GLMM/GLMM_LA.py:29: RuntimeWarning: invalid value encountered in true_divide\n",
      "  result = np.nan_to_num(- np.asarray((np.exp(x @ beta_0 + mu) / (1 + np.exp(x @ beta_0 + mu)) ** 2)), nan=0)\n",
      "/Users/wli17/Documents/GLMM/GLMM/GLMM_LA.py:45: RuntimeWarning: overflow encountered in exp\n",
      "  return sum(- np.nan_to_num(np.asarray((np.exp(x @ beta_0 + mu) * (np.exp(x @ beta_0 + mu) - 1) \\\n",
      "/Users/wli17/Documents/GLMM/GLMM/GLMM_LA.py:46: RuntimeWarning: overflow encountered in exp\n",
      "  / (1 + np.exp(x @ beta_0 + mu)) ** 3)), nan=0))\n",
      "/Users/wli17/Documents/GLMM/GLMM/GLMM_LA.py:45: RuntimeWarning: invalid value encountered in true_divide\n",
      "  return sum(- np.nan_to_num(np.asarray((np.exp(x @ beta_0 + mu) * (np.exp(x @ beta_0 + mu) - 1) \\\n",
      "/Users/wli17/Documents/GLMM/GLMM/GLMM_LA.py:33: RuntimeWarning: overflow encountered in exp\n",
      "  result = np.nan_to_num(np.asarray((np.exp(x @ beta_0 + mu) / (1 + np.exp(x @ beta_0 + mu)) ** 2)), nan=0)\n",
      "/Users/wli17/Documents/GLMM/GLMM/GLMM_LA.py:33: RuntimeWarning: invalid value encountered in true_divide\n",
      "  result = np.nan_to_num(np.asarray((np.exp(x @ beta_0 + mu) / (1 + np.exp(x @ beta_0 + mu)) ** 2)), nan=0)\n",
      "/Users/wli17/Documents/GLMM/GLMM/GLMM_LA.py:49: RuntimeWarning: overflow encountered in exp\n",
      "  return np.sum(- x * np.nan_to_num(np.asarray((np.exp(x @ beta_0 + mu) * (np.exp(x @ beta_0 + mu) - 1) \\\n",
      "/Users/wli17/Documents/GLMM/GLMM/GLMM_LA.py:50: RuntimeWarning: overflow encountered in exp\n",
      "  / (1 + np.exp(x @ beta_0 + mu)) ** 3)), nan=0), axis=0)\n",
      "/Users/wli17/Documents/GLMM/GLMM/GLMM_LA.py:49: RuntimeWarning: invalid value encountered in true_divide\n",
      "  return np.sum(- x * np.nan_to_num(np.asarray((np.exp(x @ beta_0 + mu) * (np.exp(x @ beta_0 + mu) - 1) \\\n",
      "/Users/wli17/Documents/GLMM/GLMM/GLMM_LA.py:11: RuntimeWarning: overflow encountered in exp\n",
      "  result = np.asarray((np.exp(x @ beta_0 + mu) / (1 + np.exp(x @ beta_0 + mu))))\n",
      "/Users/wli17/Documents/GLMM/GLMM/GLMM_LA.py:11: RuntimeWarning: invalid value encountered in true_divide\n",
      "  result = np.asarray((np.exp(x @ beta_0 + mu) / (1 + np.exp(x @ beta_0 + mu))))\n",
      "/Users/wli17/Documents/GLMM/GLMM/GLMM_LA.py:12: RuntimeWarning: overflow encountered in exp\n",
      "  if np.exp(x @ beta_0 + mu).max() == np.inf:\n",
      "/Users/wli17/Documents/GLMM/GLMM/GLMM_LA.py:56: RuntimeWarning: overflow encountered in exp\n",
      "  * np.nan_to_num((np.exp(x[i] @ beta_0 + mu) * (np.exp(x[i] @ beta_0 + mu) - 1) \\\n",
      "/Users/wli17/Documents/GLMM/GLMM/GLMM_LA.py:57: RuntimeWarning: overflow encountered in exp\n",
      "  / (1 + np.exp(x[i] @ beta_0 + mu)) ** 3), nan=0))\n",
      "/Users/wli17/Documents/GLMM/GLMM/GLMM_LA.py:56: RuntimeWarning: invalid value encountered in true_divide\n",
      "  * np.nan_to_num((np.exp(x[i] @ beta_0 + mu) * (np.exp(x[i] @ beta_0 + mu) - 1) \\\n",
      "/Users/wli17/Documents/GLMM/GLMM/GLMM_LA.py:61: RuntimeWarning: overflow encountered in exp\n",
      "  result = sum(- np.nan_to_num((np.exp(x @ beta_0 + mu) * (np.exp(x @ beta_0 + mu) - 1) \\\n",
      "/Users/wli17/Documents/GLMM/GLMM/GLMM_LA.py:62: RuntimeWarning: overflow encountered in exp\n",
      "  / (1 + np.exp(x @ beta_0 + mu)) ** 3), nan=0) \\\n",
      "/Users/wli17/Documents/GLMM/GLMM/GLMM_LA.py:61: RuntimeWarning: invalid value encountered in true_divide\n",
      "  result = sum(- np.nan_to_num((np.exp(x @ beta_0 + mu) * (np.exp(x @ beta_0 + mu) - 1) \\\n",
      "/Users/wli17/Documents/GLMM/GLMM/GLMM_LA.py:63: RuntimeWarning: overflow encountered in exp\n",
      "  + np.nan_to_num((3 * np.exp(2 * (x @ beta_0 + mu)) * (np.exp(x @ beta_0 + mu) - 1) \\\n",
      "/Users/wli17/Documents/GLMM/GLMM/GLMM_LA.py:64: RuntimeWarning: overflow encountered in exp\n",
      "  / (1 + np.exp(x @ beta_0 + mu)) ** 4), nan=0) \\\n",
      "/Users/wli17/Documents/GLMM/GLMM/GLMM_LA.py:64: RuntimeWarning: overflow encountered in power\n",
      "  / (1 + np.exp(x @ beta_0 + mu)) ** 4), nan=0) \\\n",
      "/Users/wli17/Documents/GLMM/GLMM/GLMM_LA.py:63: RuntimeWarning: invalid value encountered in true_divide\n",
      "  + np.nan_to_num((3 * np.exp(2 * (x @ beta_0 + mu)) * (np.exp(x @ beta_0 + mu) - 1) \\\n",
      "/Users/wli17/Documents/GLMM/GLMM/GLMM_LA.py:65: RuntimeWarning: overflow encountered in exp\n",
      "  - np.nan_to_num((np.exp(2 * (x @ beta_0 + mu)) / (1 + np.exp(x @ beta_0 + mu)) ** 3), nan=0) \\\n",
      "/Users/wli17/Documents/GLMM/GLMM/GLMM_LA.py:65: RuntimeWarning: invalid value encountered in true_divide\n",
      "  - np.nan_to_num((np.exp(2 * (x @ beta_0 + mu)) / (1 + np.exp(x @ beta_0 + mu)) ** 3), nan=0) \\\n",
      "/Users/wli17/Documents/GLMM/GLMM/GLMM_LA.py:70: RuntimeWarning: overflow encountered in exp\n",
      "  result = np.sum(- x * np.asarray(np.nan_to_num((np.exp(x @ beta_0 + mu) * (np.exp(x @ beta_0 + mu) - 1) \\\n",
      "/Users/wli17/Documents/GLMM/GLMM/GLMM_LA.py:71: RuntimeWarning: overflow encountered in exp\n",
      "  / (1 + np.exp(x @ beta_0 + mu)) ** 3), nan=0) \\\n",
      "/Users/wli17/Documents/GLMM/GLMM/GLMM_LA.py:70: RuntimeWarning: invalid value encountered in true_divide\n",
      "  result = np.sum(- x * np.asarray(np.nan_to_num((np.exp(x @ beta_0 + mu) * (np.exp(x @ beta_0 + mu) - 1) \\\n",
      "/Users/wli17/Documents/GLMM/GLMM/GLMM_LA.py:73: RuntimeWarning: overflow encountered in exp\n",
      "  (3 * np.exp(2 * (x @ beta_0 + mu)) * (np.exp(x @ beta_0 + mu) - 1) \\\n",
      "/Users/wli17/Documents/GLMM/GLMM/GLMM_LA.py:74: RuntimeWarning: overflow encountered in exp\n",
      "  / (1 + np.exp(x @ beta_0 + mu)) ** 4), nan=0) \\\n",
      "/Users/wli17/Documents/GLMM/GLMM/GLMM_LA.py:74: RuntimeWarning: overflow encountered in power\n",
      "  / (1 + np.exp(x @ beta_0 + mu)) ** 4), nan=0) \\\n",
      "/Users/wli17/Documents/GLMM/GLMM/GLMM_LA.py:73: RuntimeWarning: invalid value encountered in true_divide\n",
      "  (3 * np.exp(2 * (x @ beta_0 + mu)) * (np.exp(x @ beta_0 + mu) - 1) \\\n",
      "/Users/wli17/Documents/GLMM/GLMM/GLMM_LA.py:76: RuntimeWarning: overflow encountered in exp\n",
      "  (np.exp(2 * (x @ beta_0 + mu)) / (1 + np.exp(x @ beta_0 + mu)) ** 3), nan=0))\n",
      "/Users/wli17/Documents/GLMM/GLMM/GLMM_LA.py:76: RuntimeWarning: invalid value encountered in true_divide\n",
      "  (np.exp(2 * (x @ beta_0 + mu)) / (1 + np.exp(x @ beta_0 + mu)) ** 3), nan=0))\n",
      "/Users/wli17/Documents/GLMM/GLMM/GLMM_LA.py:40: RuntimeWarning: overflow encountered in exp\n",
      "  * np.nan_to_num((np.exp(x[i] @ beta_0 + mu) / (1 + np.exp(x[i] @ beta_0 + mu)) ** 2),\n",
      "/Users/wli17/Documents/GLMM/GLMM/GLMM_LA.py:40: RuntimeWarning: invalid value encountered in true_divide\n",
      "  * np.nan_to_num((np.exp(x[i] @ beta_0 + mu) / (1 + np.exp(x[i] @ beta_0 + mu)) ** 2),\n",
      "/Users/wli17/Documents/GLMM/GLMM/GLMM_LA.py:29: RuntimeWarning: overflow encountered in square\n",
      "  result = np.nan_to_num(- np.asarray((np.exp(x @ beta_0 + mu) / (1 + np.exp(x @ beta_0 + mu)) ** 2)), nan=0)\n",
      "/Users/wli17/Documents/GLMM/GLMM/GLMM_LA.py:45: RuntimeWarning: overflow encountered in multiply\n",
      "  return sum(- np.nan_to_num(np.asarray((np.exp(x @ beta_0 + mu) * (np.exp(x @ beta_0 + mu) - 1) \\\n",
      "/Users/wli17/Documents/GLMM/GLMM/GLMM_LA.py:46: RuntimeWarning: overflow encountered in power\n",
      "  / (1 + np.exp(x @ beta_0 + mu)) ** 3)), nan=0))\n",
      "/Users/wli17/Documents/GLMM/GLMM/GLMM_LA.py:33: RuntimeWarning: overflow encountered in square\n",
      "  result = np.nan_to_num(np.asarray((np.exp(x @ beta_0 + mu) / (1 + np.exp(x @ beta_0 + mu)) ** 2)), nan=0)\n",
      "/Users/wli17/Documents/GLMM/GLMM/GLMM_LA.py:49: RuntimeWarning: overflow encountered in multiply\n",
      "  return np.sum(- x * np.nan_to_num(np.asarray((np.exp(x @ beta_0 + mu) * (np.exp(x @ beta_0 + mu) - 1) \\\n",
      "/Users/wli17/Documents/GLMM/GLMM/GLMM_LA.py:50: RuntimeWarning: overflow encountered in power\n",
      "  / (1 + np.exp(x @ beta_0 + mu)) ** 3)), nan=0), axis=0)\n",
      "/Users/wli17/Documents/GLMM/GLMM/GLMM_LA.py:57: RuntimeWarning: overflow encountered in power\n",
      "  / (1 + np.exp(x[i] @ beta_0 + mu)) ** 3), nan=0))\n",
      "/Users/wli17/Documents/GLMM/GLMM/GLMM_LA.py:56: RuntimeWarning: overflow encountered in multiply\n",
      "  * np.nan_to_num((np.exp(x[i] @ beta_0 + mu) * (np.exp(x[i] @ beta_0 + mu) - 1) \\\n",
      "/Users/wli17/Documents/GLMM/GLMM/GLMM_LA.py:61: RuntimeWarning: overflow encountered in multiply\n",
      "  result = sum(- np.nan_to_num((np.exp(x @ beta_0 + mu) * (np.exp(x @ beta_0 + mu) - 1) \\\n",
      "/Users/wli17/Documents/GLMM/GLMM/GLMM_LA.py:62: RuntimeWarning: overflow encountered in power\n",
      "  / (1 + np.exp(x @ beta_0 + mu)) ** 3), nan=0) \\\n",
      "/Users/wli17/Documents/GLMM/GLMM/GLMM_LA.py:63: RuntimeWarning: overflow encountered in multiply\n",
      "  + np.nan_to_num((3 * np.exp(2 * (x @ beta_0 + mu)) * (np.exp(x @ beta_0 + mu) - 1) \\\n",
      "/Users/wli17/Documents/GLMM/GLMM/GLMM_LA.py:65: RuntimeWarning: overflow encountered in power\n",
      "  - np.nan_to_num((np.exp(2 * (x @ beta_0 + mu)) / (1 + np.exp(x @ beta_0 + mu)) ** 3), nan=0) \\\n",
      "/Users/wli17/Documents/GLMM/GLMM/GLMM_LA.py:70: RuntimeWarning: overflow encountered in multiply\n",
      "  result = np.sum(- x * np.asarray(np.nan_to_num((np.exp(x @ beta_0 + mu) * (np.exp(x @ beta_0 + mu) - 1) \\\n",
      "/Users/wli17/Documents/GLMM/GLMM/GLMM_LA.py:71: RuntimeWarning: overflow encountered in power\n",
      "  / (1 + np.exp(x @ beta_0 + mu)) ** 3), nan=0) \\\n",
      "/Users/wli17/Documents/GLMM/GLMM/GLMM_LA.py:73: RuntimeWarning: overflow encountered in multiply\n",
      "  (3 * np.exp(2 * (x @ beta_0 + mu)) * (np.exp(x @ beta_0 + mu) - 1) \\\n",
      "/Users/wli17/Documents/GLMM/GLMM/GLMM_LA.py:76: RuntimeWarning: overflow encountered in power\n",
      "  (np.exp(2 * (x @ beta_0 + mu)) / (1 + np.exp(x @ beta_0 + mu)) ** 3), nan=0))\n"
     ]
    },
    {
     "name": "stderr",
     "output_type": "stream",
     "text": [
      "/Users/wli17/Documents/GLMM/GLMM/GLMM_LA.py:40: RuntimeWarning: overflow encountered in square\n",
      "  * np.nan_to_num((np.exp(x[i] @ beta_0 + mu) / (1 + np.exp(x[i] @ beta_0 + mu)) ** 2),\n",
      "/Users/wli17/Documents/GLMM/GLMM/GLMM_LA.py:158: RuntimeWarning: invalid value encountered in true_divide\n",
      "  return (x - min(x))/(max(x) - min(x))\n"
     ]
    },
    {
     "data": {
      "text/plain": [
       "[array([[-0.54286203],\n",
       "        [ 0.08696679],\n",
       "        [-0.68457248],\n",
       "        [-0.1701618 ],\n",
       "        [ 0.36405104],\n",
       "        [-0.16430922],\n",
       "        [-0.12084454],\n",
       "        [ 0.41323846],\n",
       "        [-0.05001032],\n",
       "        [ 0.49164231]]),\n",
       " array([ 0.20658962, -2.41294432])]"
      ]
     },
     "execution_count": 6,
     "metadata": {},
     "output_type": "execute_result"
    }
   ],
   "source": [
    "LA(data, out)"
   ]
  },
  {
   "cell_type": "code",
   "execution_count": null,
   "metadata": {},
   "outputs": [],
   "source": []
  }
 ],
 "metadata": {
  "kernelspec": {
   "display_name": "Python 3",
   "language": "python",
   "name": "python3"
  },
  "language_info": {
   "codemirror_mode": {
    "name": "ipython",
    "version": 3
   },
   "file_extension": ".py",
   "mimetype": "text/x-python",
   "name": "python",
   "nbconvert_exporter": "python",
   "pygments_lexer": "ipython3",
   "version": "3.8.5"
  }
 },
 "nbformat": 4,
 "nbformat_minor": 4
}
