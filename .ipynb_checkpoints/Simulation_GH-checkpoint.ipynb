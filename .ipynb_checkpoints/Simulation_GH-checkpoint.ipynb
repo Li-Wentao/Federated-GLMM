{
 "cells": [
  {
   "cell_type": "markdown",
   "metadata": {},
   "source": [
    "# Gauss-Hermite Approximation"
   ]
  },
  {
   "cell_type": "markdown",
   "metadata": {},
   "source": [
    "### Load packages"
   ]
  },
  {
   "cell_type": "code",
   "execution_count": 3,
   "metadata": {},
   "outputs": [],
   "source": [
    "from numpy.polynomial.hermite import hermgauss\n",
    "from matplotlib import pyplot as plt\n",
    "from numpy.linalg import inv\n",
    "import pandas as pd\n",
    "import numpy as np\n",
    "import scipy"
   ]
  },
  {
   "cell_type": "markdown",
   "metadata": {},
   "source": [
    "### Randomized simulation data for two sites\n",
    "- Set random seed\n",
    "- Generate 10 true betas ranged in (-10, 10)\n",
    "- Generate 2 sigmas for noise variance in different sites\n",
    "- Generate data X1 and X2 with size (1000, 10)\n",
    "- Generate result y1 and y2 with bernoulli distibution "
   ]
  },
  {
   "cell_type": "code",
   "execution_count": 4,
   "metadata": {},
   "outputs": [],
   "source": [
    "np.random.seed(1)\n",
    "true_beta = (np.random.rand(10,1) - np.random.rand(10,1)) * 10\n",
    "true_sigma = np.random.rand(2)\n",
    "X1 = (np.random.rand(1000, 10) - np.random.rand(1000, 10)) * 10\n",
    "p1 = 1 / (1 + np.exp(-(X1 @ true_beta + np.random.normal(0, true_sigma[0], 1000).reshape(1000, 1))))\n",
    "y1 = np.random.binomial(1,p1)\n",
    "X2 = (np.random.rand(1000, 10) - np.random.rand(1000, 10)) * 10\n",
    "p2 = 1 / (1 + np.exp(-(X2 @ true_beta + np.random.normal(0, true_sigma[1], 1000).reshape(1000, 1))))\n",
    "y2 = np.random.binomial(1,p2)"
   ]
  },
  {
   "cell_type": "markdown",
   "metadata": {},
   "source": [
    "### Definitions"
   ]
  },
  {
   "cell_type": "markdown",
   "metadata": {},
   "source": [
    "Notation for $\\pi_{ij}$:\n",
    "\n",
    "$$\\pi_{ij} = \\dfrac{\\exp{(X_{ij}^\\top\\beta_0}+\\mu_{i0})}{1 + \\exp{(X_{ij}^\\top\\beta_0}+\\mu_{i0})}$$"
   ]
  },
  {
   "cell_type": "code",
   "execution_count": 5,
   "metadata": {},
   "outputs": [],
   "source": [
    "def Pi(x, beta_0, mu):\n",
    "    return np.asarray((np.exp(x @ beta_0 + mu) / (1 + np.exp(x @ beta_0 + mu))))"
   ]
  },
  {
   "cell_type": "markdown",
   "metadata": {},
   "source": [
    "Notation for $g(\\mu_{i0})$:\n",
    "\n",
    "$$g(\\mu_{i0};\\beta_0)=\\sum_{j=1}^{n_i}\\left[y_{ij}\\log\\pi_{ij}+(1-y_{ij})\\log(1-\\pi_{ij})\\right]+\\log\\phi(\\mu_{i0};\\theta_0)$$"
   ]
  },
  {
   "cell_type": "code",
   "execution_count": 6,
   "metadata": {},
   "outputs": [],
   "source": [
    "def g(x, y, mu, beta_0, tau=1):\n",
    "    g = sum(y * np.log(Pi(x, beta_0, mu)) + (1 - y) * np.log(1 - Pi(x, beta_0, mu))) \\\n",
    "    + np.log((np.sqrt(2 * np.pi) * tau)**(-1) * np.exp(-mu**2/(2 * tau**2)))\n",
    "    return g"
   ]
  },
  {
   "cell_type": "markdown",
   "metadata": {},
   "source": [
    "Notation for $g_\\beta(\\mu_{i0})$:\n",
    "\n",
    "$$\\dfrac{\\partial g}{\\partial \\beta_0}=\\sum_{j=1}^{n_i}(X_{ij}y_{ij}-X_{ij}\\pi_{ij})$$"
   ]
  },
  {
   "cell_type": "code",
   "execution_count": 7,
   "metadata": {},
   "outputs": [],
   "source": [
    "def g_b(x, y, mu, beta_0, tau = 1):\n",
    "    return np.sum(x * y - x * Pi(x, beta_0, mu), axis = 0)"
   ]
  },
  {
   "cell_type": "markdown",
   "metadata": {},
   "source": [
    "Notation for $g_\\mu(\\mu_{i0})$:\n",
    "\n",
    "$$\\dfrac{\\partial g}{\\partial \\mu_{i0}}=\\sum_{j=1}^{n_i}(y_{ij}-\\pi_{ij})-\\dfrac{\\mu_{i0}}{\\tau_0^2}$$"
   ]
  },
  {
   "cell_type": "code",
   "execution_count": 8,
   "metadata": {},
   "outputs": [],
   "source": [
    "def g_u(x, y, mu, beta_0, tau = 1):\n",
    "    return sum(y - Pi(x, beta_0, mu)) - mu/tau**2"
   ]
  },
  {
   "cell_type": "markdown",
   "metadata": {},
   "source": [
    "Notation for $g_{\\mu\\mu}(\\mu_{i0})$:\n",
    "\n",
    "$$\\dfrac{\\partial^2 g}{\\partial \\mu_{i0}^2}=-\\sum_{j=1}^{n_i}\\dfrac{\\partial\\pi_{ij}}{\\partial\\mu_{i0}}-\\dfrac{1}{\\tau_0^2}$$"
   ]
  },
  {
   "cell_type": "code",
   "execution_count": 9,
   "metadata": {},
   "outputs": [],
   "source": [
    "def g_uu(x, y, mu, beta_0, tau = 1):\n",
    "    return sum(- np.asarray((np.exp(x @ beta_0 + mu) / (1 + np.exp(x @ beta_0 + mu))**2))) - 1/tau**2"
   ]
  },
  {
   "cell_type": "markdown",
   "metadata": {},
   "source": [
    "Notation for $g_{\\mu\\beta}(\\mu_{i0})$:\n",
    "\n",
    "$$\\dfrac{\\partial^2 g}{\\partial \\mu_{i0}\\partial \\beta_0}=-\\sum_{j=1}^{n_i}\\dfrac{\\partial\\pi_{ij}}{\\partial\\beta_0}$$"
   ]
  },
  {
   "cell_type": "code",
   "execution_count": 10,
   "metadata": {},
   "outputs": [],
   "source": [
    "def g_ub(x, y, mu, beta_0, tau = 1):\n",
    "    return np.sum(- x * np.asarray((np.exp(x @ beta_0 + mu) / (1 + np.exp(x @ beta_0 + mu))**2)), axis = 0)"
   ]
  },
  {
   "cell_type": "markdown",
   "metadata": {},
   "source": [
    "Notation for $g_{\\beta\\beta}(\\mu_{i0})$:\n",
    "\n",
    "$$\\dfrac{\\partial^2 g}{\\partial \\beta_0^2}=-\\sum_{j=1}^{n_i}X_{ij}\\dfrac{\\partial\\pi_{ij}}{\\partial\\beta_0}$$"
   ]
  },
  {
   "cell_type": "code",
   "execution_count": 11,
   "metadata": {},
   "outputs": [],
   "source": [
    "def g_bb(x, y, mu, beta_0, tau = 1):\n",
    "    result = 0\n",
    "    for i in range(len(y)):\n",
    "        result += -np.asarray(x[i].reshape(x.shape[1],1) @ x[i].reshape(1,x.shape[1])\\\n",
    "        * (np.exp(x[i] @ beta_0 + mu) / (1 + np.exp(x[i] @ beta_0 + mu))**2))\n",
    "    return result"
   ]
  },
  {
   "cell_type": "markdown",
   "metadata": {},
   "source": [
    "Notation for $g_{\\mu\\beta}(\\hat\\mu_{i0};\\beta_0)$:\n",
    "\n",
    "$$\\dfrac{\\partial g_u(\\hat\\mu(\\beta_0);\\beta_0)}{\\partial \\beta_0}=\\hat\\mu_\\beta(\\beta_0)g_{\\mu\\mu}(\\hat\\mu_{i0})+g_{\\mu\\beta}(\\hat\\mu_{i0})=0$$"
   ]
  },
  {
   "cell_type": "code",
   "execution_count": null,
   "metadata": {},
   "outputs": [],
   "source": []
  },
  {
   "cell_type": "markdown",
   "metadata": {},
   "source": [
    "Notation for $g_{\\mu\\mu\\mu}(\\hat\\mu_{i0};\\beta_0)$:\n",
    "\n",
    "$$g_{\\mu\\mu\\mu}(\\hat\\mu_{i0};\\beta_0) = -\\sum_{j=1}^{n_i}\\dfrac{\\partial^2\\pi_{ij}}{\\partial\\mu_{i0}^2}$$"
   ]
  },
  {
   "cell_type": "code",
   "execution_count": 12,
   "metadata": {},
   "outputs": [],
   "source": [
    "def g_uuu(x, y, mu, beta_0, tau = 1):\n",
    "    return sum(- np.asarray((np.exp(x @ beta_0 + mu) * (np.exp(x @ beta_0 + mu) - 1)\\\n",
    "                             / (1 + np.exp(x @ beta_0 + mu))**3)))"
   ]
  },
  {
   "cell_type": "markdown",
   "metadata": {},
   "source": [
    "Notation for $g_{\\mu\\mu\\beta}(\\hat\\mu_{i0};\\beta_0)$:\n",
    "\n",
    "$$g_{\\mu\\mu\\beta}(\\hat\\mu_{i0};\\beta_0) = -\\sum_{j=1}^{n_i}\\dfrac{\\partial^2\\pi_{ij}}{\\partial\\mu_{i0}\\partial\\beta_0}$$"
   ]
  },
  {
   "cell_type": "code",
   "execution_count": 13,
   "metadata": {},
   "outputs": [],
   "source": [
    "def g_uub(x, y, mu, beta_0, tau = 1):\n",
    "    return np.sum(- x * np.asarray((np.exp(x @ beta_0 + mu) * (np.exp(x @ beta_0 + mu) - 1)\\\n",
    "                             / (1 + np.exp(x @ beta_0 + mu))**3)), axis = 0)"
   ]
  },
  {
   "cell_type": "markdown",
   "metadata": {},
   "source": [
    "Notation for $g_{\\mu\\beta\\beta}(\\hat\\mu_{i0};\\beta_0)$:\n",
    "\n",
    "$$\\dfrac{\\partial^3 g}{\\partial \\mu_{i0}\\partial \\beta_0^2}=-\\sum_{j=1}^{n_i}\\dfrac{\\partial^2\\pi_{ij}}{\\partial\\beta_0^2}$$"
   ]
  },
  {
   "cell_type": "code",
   "execution_count": 14,
   "metadata": {},
   "outputs": [],
   "source": [
    "def g_ubb(x, y, mu, beta_0, tau = 1):\n",
    "    result = 0\n",
    "    for i in range(len(y)):\n",
    "        result += -np.asarray(x[i].reshape(x.shape[1],1) @ x[i].reshape(1,x.shape[1])\\\n",
    "                         * (np.exp(x[i] @ beta_0 + mu) * (np.exp(x[i] @ beta_0 + mu) - 1)\\\n",
    "                                       / (1 + np.exp(x[i] @ beta_0 + mu))**3))\n",
    "    return result"
   ]
  },
  {
   "cell_type": "markdown",
   "metadata": {},
   "source": [
    "Notation for $g_{\\mu\\mu\\mu\\mu}(\\hat\\mu_{i0};\\beta_0)$:\n",
    "\n",
    "$$g_{\\mu\\mu\\mu\\mu}(\\hat\\mu_{i0};\\beta_0) = -\\sum_{j=1}^{n_i}\\dfrac{\\partial^3\\pi_{ij}}{\\partial\\mu_{i0}^3}$$"
   ]
  },
  {
   "cell_type": "code",
   "execution_count": 15,
   "metadata": {},
   "outputs": [],
   "source": [
    "def g_uuuu(x, y, mu, beta_0, tau = 1):\n",
    "    result = sum(- (np.exp(x @ beta_0 + mu) * (np.exp(x @ beta_0 + mu) - 1)\\\n",
    "                             / (1 + np.exp(x @ beta_0 + mu))**3)\\\n",
    "                 + (3 * np.exp(2 * (x @ beta_0 + mu)) * (np.exp(x @ beta_0 + mu) - 1)\\\n",
    "                             / (1 + np.exp(x @ beta_0 + mu))**4)\\\n",
    "                 - (np.exp(2 * (x @ beta_0 + mu))  / (1 + np.exp(x @ beta_0 + mu))**3)\\\n",
    "                )\n",
    "    return result"
   ]
  },
  {
   "cell_type": "markdown",
   "metadata": {},
   "source": [
    "Notation for $g_{\\mu\\mu\\mu\\beta}(\\hat\\mu_{i0};\\beta_0)$:\n",
    "\n",
    "$$g_{\\mu\\mu\\mu\\beta}(\\hat\\mu_{i0};\\beta_0) = -\\sum_{j=1}^{n_i}\\dfrac{\\partial^3\\pi_{ij}}{\\partial\\mu_{i0}^2\\partial\\beta_0}$$"
   ]
  },
  {
   "cell_type": "code",
   "execution_count": 16,
   "metadata": {},
   "outputs": [],
   "source": [
    "def g_uuub(x, y, mu, beta_0, tau = 1):\n",
    "    result = np.sum(- x * np.asarray((np.exp(x @ beta_0 + mu) * (np.exp(x @ beta_0 + mu) - 1)\\\n",
    "                             / (1 + np.exp(x @ beta_0 + mu))**3)\\\n",
    "                 + (3 * np.exp(2 * (x @ beta_0 + mu)) * (np.exp(x @ beta_0 + mu) - 1)\\\n",
    "                             / (1 + np.exp(x @ beta_0 + mu))**4)\\\n",
    "                 - (np.exp(2 * (x @ beta_0 + mu))  / (1 + np.exp(x @ beta_0 + mu))**3)), axis = 0)\n",
    "    return result"
   ]
  },
  {
   "cell_type": "markdown",
   "metadata": {},
   "source": [
    "Notation for $g_{\\mu\\mu\\beta\\beta}(\\hat\\mu_{i0};\\beta_0)$:\n",
    "\n",
    "$$g_{\\mu\\mu\\beta\\beta}(\\hat\\mu_{i0};\\beta_0) = -\\sum_{j=1}^{n_i}\\dfrac{\\partial^3\\pi_{ij}}{\\partial\\mu_{i0}\\partial\\beta^2_0}$$"
   ]
  },
  {
   "cell_type": "code",
   "execution_count": 17,
   "metadata": {},
   "outputs": [],
   "source": [
    "def g_uubb(x, y, mu, beta_0, tau = 1):\n",
    "    result = 0\n",
    "    for i in range(len(y)):\n",
    "        result += -np.asarray(x[i].reshape(x.shape[1],1) @ x[i].reshape(1,x.shape[1])\\\n",
    "                             * ((np.exp(x @ beta_0 + mu) * (np.exp(x @ beta_0 + mu) - 1)\\\n",
    "                             / (1 + np.exp(x @ beta_0 + mu))**3)\\\n",
    "                 + (3 * np.exp(2 * (x @ beta_0 + mu)) * (np.exp(x @ beta_0 + mu) - 1)\\\n",
    "                             / (1 + np.exp(x @ beta_0 + mu))**4)\\\n",
    "                 - (np.exp(2 * (x @ beta_0 + mu))  / (1 + np.exp(x @ beta_0 + mu))**3)))\n",
    "        \n",
    "    return result"
   ]
  },
  {
   "cell_type": "markdown",
   "metadata": {},
   "source": [
    "Notation for $\\hat\\omega$:\n",
    "\n",
    "$$\\hat\\omega=\\sqrt{-\\dfrac{1}{g_{\\mu\\mu}(\\hat\\mu_{i0})}}$$"
   ]
  },
  {
   "cell_type": "code",
   "execution_count": 18,
   "metadata": {},
   "outputs": [],
   "source": [
    "def omega(x, y, mu, beta_0, tau = 1):\n",
    "    return np.sqrt(-1/g_uu(x, y, mu, beta_0))"
   ]
  },
  {
   "cell_type": "markdown",
   "metadata": {},
   "source": [
    "Notation for $\\hat\\omega_\\beta$:\n",
    "\n",
    "$$\\dfrac{\\partial\\hat\\omega}{\\partial\\beta}=\\dfrac{1}{2}\\hat\\omega^3(g_{\\mu\\mu\\mu}\\hat\\mu_\\beta + g_{\\mu\\mu\\beta})$$"
   ]
  },
  {
   "cell_type": "code",
   "execution_count": 19,
   "metadata": {},
   "outputs": [],
   "source": [
    "def omega_b(x, y, mu, beta_0, tau = 1):\n",
    "    return 0.5 * omega(x, y, mu, beta_0, tau)**3 * (g_uuu(x, y, mu, beta_0, tau) * mu_b(x, y, mu, beta_0, tau)\\\n",
    "                                                    + g_uub(x, y, mu, beta_0, tau))"
   ]
  },
  {
   "cell_type": "markdown",
   "metadata": {},
   "source": [
    "Notation for $\\hat\\mu_\\beta$\n",
    "\n",
    "$$\\hat\\mu_\\beta(\\beta_0)=-\\dfrac{g_{\\mu\\beta}(\\hat\\mu_{i0};\\beta_0)}{g_{\\mu\\mu}(\\hat\\mu_{i0};\\beta_0)}=\\hat\\omega^2(\\beta_0)g_{\\mu\\beta}(\\hat\\mu_{i0}(\\beta_0);\\beta_0)$$"
   ]
  },
  {
   "cell_type": "code",
   "execution_count": 20,
   "metadata": {},
   "outputs": [],
   "source": [
    "def mu_b(x, y, mu, beta_0, tau = 1):\n",
    "    return omega(x, y, mu, beta_0, tau)**2 * g_ub(x, y, mu, beta_0, tau)"
   ]
  },
  {
   "cell_type": "markdown",
   "metadata": {},
   "source": [
    "Notation for $\\hat\\mu_{\\beta\\beta'}$:\n",
    "\n",
    "$$\\hat\\mu_{\\beta\\beta'}(\\beta_0)=\\hat\\omega^2(\\hat\\mu_\\beta\\hat\\mu_{\\beta'} g_{\\mu\\mu\\mu}+\\hat\\mu_{\\beta}g_{\\mu\\mu\\beta'}+\\hat\\mu_{\\beta'}g_{\\mu\\mu\\beta}+g_{\\mu\\beta\\beta'})$$"
   ]
  },
  {
   "cell_type": "code",
   "execution_count": 21,
   "metadata": {},
   "outputs": [],
   "source": [
    "def mu_bb(x, y, mu, beta_0, tau = 1):\n",
    "    result = omega(x, y, mu, beta_0, tau)**2 * (mu_b(x, y, mu, beta_0, tau).reshape(x.shape[1],1)\\\n",
    "                                              @ mu_b(x, y, mu, beta_0, tau).reshape(1,x.shape[1])\\\n",
    "                                              * g_uuu(x, y, mu, beta_0, tau)\\\n",
    "                                              + 2 * mu_b(x, y, mu, beta_0, tau).reshape(x.shape[1],1)\\\n",
    "                                              @ g_uub(x, y, mu, beta_0, tau).reshape(1,x.shape[1])\\\n",
    "                                              + g_ubb(x, y, mu, beta_0, tau))\n",
    "    return result"
   ]
  },
  {
   "cell_type": "markdown",
   "metadata": {},
   "source": [
    "Notation for $\\hat\\omega_{\\beta\\beta'}$:\n",
    "\n",
    "$$\\dfrac{\\partial^2}{\\partial\\beta\\partial\\beta'}\\hat\\omega(\\beta_0)=\\frac{3}{4}\\hat\\omega^5(\\hat\\mu_{\\beta'}g_{\\mu\\mu\\mu}+g_{\\mu\\mu\\beta'})(\\hat\\mu_{\\beta}g_{\\mu\\mu\\mu}+g_{\\mu\\mu\\beta})+\\dfrac{1}{2}\\hat\\omega^3(\\hat\\mu_{\\beta\\beta'}g_{\\mu\\mu\\mu}+\\hat\\mu_\\beta\\hat\\mu_{\\beta'}g_{\\mu\\mu\\mu\\mu}+\\hat\\mu_{\\beta}g_{\\mu\\mu\\mu\\beta'}+\\hat\\mu_{\\beta\\beta'}g_{\\mu\\mu\\mu\\beta}+g_{\\mu\\mu\\beta\\beta'})$$"
   ]
  },
  {
   "cell_type": "code",
   "execution_count": 22,
   "metadata": {},
   "outputs": [],
   "source": [
    "def omega_bb(x, y, mu, beta_0, tau = 1):\n",
    "    result = 3/4 * omega(x, y, mu, beta_0, tau)**5 * (mu_b(x, y, mu, beta_0, tau) * g_uuu(x, y, mu, beta_0, tau)\\\n",
    "                                                      + g_uub(x, y, mu, beta_0, tau)).reshape(x.shape[1],1)\\\n",
    "     @ (mu_b(x, y, mu, beta_0, tau) * g_uuu(x, y, mu, beta_0, tau)\\\n",
    "        + g_uub(x, y, mu, beta_0, tau)).reshape(1,x.shape[1]) + 1/2 * omega(x, y, mu, beta_0, tau)**3\\\n",
    "     * (mu_bb(x, y, mu, beta_0, tau) * g_uuu(x, y, mu, beta_0, tau)\\\n",
    "        + (mu_b(x, y, mu, beta_0, tau).reshape(x.shape[1],1)\\\n",
    "           @ mu_b(x, y, mu, beta_0, tau).reshape(1,x.shape[1]) * g_uuuu(x, y, mu, beta_0, tau))\\\n",
    "        + mu_b(x, y, mu, beta_0, tau).reshape(x.shape[1],1) @ g_uuub(x, y, mu, beta_0, tau).reshape(1,x.shape[1])\\\n",
    "        + mu_bb(x, y, mu, beta_0, tau)\n",
    "       )\n",
    "    return result"
   ]
  },
  {
   "cell_type": "markdown",
   "metadata": {},
   "source": [
    "Notation for Hermite polynomial function $f_k(\\hat\\mu_{i0}, \\hat\\omega;\\beta_0)$:\n",
    "\n",
    "$$h_k\\exp\\{g(\\hat\\mu_{i0}+\\sqrt{2\\pi}\\hat\\omega x_k;\\beta_0)+x_k^2\\}$$"
   ]
  },
  {
   "cell_type": "code",
   "execution_count": 23,
   "metadata": {},
   "outputs": [],
   "source": [
    "def f_k(k, x, y, mu, beta_0, tau = 1):\n",
    "    [x_k, h_k] = hermgauss(k)\n",
    "    return h_k * np.exp(g(x, y, mu + np.sqrt(2 * np.pi) * omega(x, y, mu, beta_0, tau) * x_k, beta_0) + x_k**2)"
   ]
  },
  {
   "cell_type": "markdown",
   "metadata": {},
   "source": [
    "Notation for $\\mathcal l_i$:\n",
    "\n",
    "$$\\mathcal l_i=\\dfrac{1}{2}\\log{(2\\pi)}+\\log(\\hat\\omega)+\\log(\\sum_{k=1}^lh_k\\exp\\left\\{g(\\hat\\mu_{i0}+\\sqrt{2\\pi}\\hat\\omega x_k;\\beta_0)+x_k^2\\right\\})$$"
   ]
  },
  {
   "cell_type": "code",
   "execution_count": 24,
   "metadata": {},
   "outputs": [],
   "source": [
    "def l(k, x, y, mu, beta_0, tau = 1):\n",
    "    return 0.5 * np.log(2 * np.pi) + np.log(omega(x, y, mu, beta_0, tau)) + np.log(sum(f_k(k, x, y, mu, beta_0, tau)))"
   ]
  },
  {
   "cell_type": "markdown",
   "metadata": {},
   "source": [
    "Notation for $f_{k_\\mu}$:\n",
    "\n",
    "$$f_{k_\\mu}(\\hat\\mu_{i0},\\hat\\omega;\\beta_0)=f_k(\\hat\\mu_{i0}, \\hat\\omega;\\beta_0)g_\\mu(\\mu_{i0})$$"
   ]
  },
  {
   "cell_type": "code",
   "execution_count": 25,
   "metadata": {},
   "outputs": [],
   "source": [
    "def f_k_u(k, x, y, mu, beta_0, tau = 1):\n",
    "    return f_k(k, x, y, mu, beta_0, tau) * g_u(x, y, mu, beta_0, tau)"
   ]
  },
  {
   "cell_type": "markdown",
   "metadata": {},
   "source": [
    "Notation for $f_{k_\\omega}$:\n",
    "\n",
    "$$f_{k_\\omega}(\\hat\\mu_{i0},\\hat\\omega;\\beta_0)=f_k(\\hat\\mu_{i0}, \\hat\\omega;\\beta_0)g_\\mu(\\mu_{i0})\\sqrt{2\\pi}x_k$$"
   ]
  },
  {
   "cell_type": "code",
   "execution_count": null,
   "metadata": {},
   "outputs": [],
   "source": [
    "def f_k_u(k, x, y, mu, beta_0, tau = 1):\n",
    "    [x_k, h_k] = hermgauss(k)\n",
    "    return f_k(k, x, y, mu, beta_0, tau) * g_u(x, y, mu, beta_0, tau) * np.sqrt(2 * np.pi) * x_k"
   ]
  },
  {
   "cell_type": "markdown",
   "metadata": {},
   "source": [
    "Notation for $\\mathcal l_i'$:\n",
    "\n",
    "$$\\mathcal l_i'=\\dfrac{\\partial\\mathcal l_i}{\\partial\\beta_0}=\\dfrac{\\hat\\omega_\\beta}{\\hat\\omega}+\\dfrac{1}{\\sum_{k=1}^lf_k}\\sum_{k=1}^l(f_{k_\\mu}\\hat\\mu_\\beta+f_{k_\\omega}\\hat\\omega_\\beta+f_{k_\\beta})$$"
   ]
  },
  {
   "cell_type": "code",
   "execution_count": 2,
   "metadata": {},
   "outputs": [],
   "source": [
    "def l_1(k, x, y, mu, beta_0, tau = 1):\n",
    "    return 0.5 * np.log(2 * np.pi) + np.log(omega(x, y, mu, beta_0, tau)) + np.log(sum(f_k(k, x, y, mu, beta_0, tau)))"
   ]
  },
  {
   "cell_type": "markdown",
   "metadata": {},
   "source": [
    "## STEP 1: Maximize $g(\\mu_{i0})$"
   ]
  },
  {
   "cell_type": "code",
   "execution_count": 18,
   "metadata": {},
   "outputs": [],
   "source": [
    "def max_mu(x, y, mu, beta_0, tau=1, max_iter=100):\n",
    "    for step in range(max_iter):\n",
    "#         print('Step: ', step, '\\n')\n",
    "        mu_new = mu - g_u(x, y, mu, beta_0, tau)/g_uu(x, y, mu, beta_0, tau)\n",
    "        diff = mu_new - mu\n",
    "#         print(diff)\n",
    "        if np.abs(diff) < 10**(-10):\n",
    "#             print(mu)\n",
    "            break;\n",
    "        mu = mu_new\n",
    "    return mu"
   ]
  },
  {
   "cell_type": "markdown",
   "metadata": {},
   "source": [
    "## STEP 2: Maximization preparation of $\\beta_0$ in LOCAL"
   ]
  },
  {
   "cell_type": "markdown",
   "metadata": {},
   "source": [
    "Notation for $\\dfrac{\\partial\\mathcal L_i}{\\partial\\beta_0}$\n",
    "\n",
    "$$\\dfrac{\\partial\\mathcal L_i}{\\partial\\beta_0}=\\sqrt{2\\pi}\\hat\\omega\\sum_{k=1}^l\\left\\{f_k(\\hat\\mu_{i0};\\beta_0)\\sum_{j=1}^{n_i}(X_{ij}y_{ij}-X_{ij}\\pi_{ij})\\right\\}$$"
   ]
  },
  {
   "cell_type": "code",
   "execution_count": 19,
   "metadata": {},
   "outputs": [],
   "source": [
    "def L_1(k, x, y, mu, beta_0, tau = 1):\n",
    "    L_1 = 0\n",
    "    [x_k, h_k] = hermgauss(k)    \n",
    "    for i in range(k):\n",
    "        L_1 += np.sqrt(2 * np.pi) * omega(x, y, mu, beta_0) *\\\n",
    "        f_k(k, x, y, mu, beta_0, tau = tau)[i] *\\\n",
    "        np.sum(x * y - x * Pi(x, beta_0, mu + np.sqrt(2 * np.pi) *\\\n",
    "                              omega(x, y, mu, beta_0, tau) * x_k[i]), axis=0)\n",
    "    return L_1"
   ]
  },
  {
   "cell_type": "markdown",
   "metadata": {},
   "source": [
    "Notation for $\\dfrac{\\partial^2\\mathcal L_i}{\\partial\\beta_0^2}$:\n",
    "\n",
    "$$\\dfrac{\\partial^2\\mathcal L_i}{\\partial\\beta_0^2}=\\sqrt{2\\pi}\\hat\\omega\\sum_{k=1}^l\\left\\{f_k(\\hat\\mu_{i0};\\beta_0)\\sum_{j=1}^{n_i}(X_{ij}y_{ij}-X_{ij}\\pi_{ij})\\left[\\sum_{j=1}^{n_i}(X_{ij}y_{ij}-X_{ij}\\pi_{ij})\\right]^\\top+f_k(\\hat\\mu_{i0};\\beta_0)\\sum_{j=1}^{n_i}\\left(-X_{ij}\\dfrac{\\partial\\pi_{ij}}{\\partial\\beta_0}\\right)\\right\\}$$"
   ]
  },
  {
   "cell_type": "code",
   "execution_count": 21,
   "metadata": {},
   "outputs": [],
   "source": [
    "def L_2(k, x, y, mu, beta_0, tau = 1):\n",
    "    L2 = 0\n",
    "    [x_k, h_k] = hermgauss(k) \n",
    "    for i in range(k):\n",
    "        boogie = 0\n",
    "        for j in range(x.shape[0]):\n",
    "            boogie += -x[j].reshape(x[j].shape[0],1) @\\\n",
    "            Pi_1(x[j], beta_0, mu + np.sqrt(2 * np.pi) *\\\n",
    "                 omega(x, y, mu, beta_0, tau) * x_k[i]).reshape(1,x[j].shape[0])\n",
    "        L2 += np.sqrt(2 * np.pi) * omega(x, y, mu, beta_0) *\\\n",
    "        (f_k(k, x, y, mu, beta_0, tau = tau)[i] *\\\n",
    "         np.sum(x * y - x * Pi(x, beta_0, mu + np.sqrt(2 * np.pi) *\\\n",
    "                               omega(x, y, mu, beta_0, tau) * x_k[i]), axis=0).reshape(x.shape[1],1) @\\\n",
    "         np.sum(x * y - x * Pi(x, beta_0, mu + np.sqrt(2 * np.pi) *\\\n",
    "                               omega(x, y, mu, beta_0, tau) * x_k[i]), axis=0).reshape(1,x.shape[1]) +\\\n",
    "        f_k(k, x, y, mu, beta_0, tau = tau)[i] * boogie)\n",
    "    return L2"
   ]
  },
  {
   "cell_type": "markdown",
   "metadata": {},
   "source": [
    "## STEP 3: Maximization of $\\beta_0$ in GLOBAL"
   ]
  },
  {
   "cell_type": "code",
   "execution_count": 23,
   "metadata": {},
   "outputs": [],
   "source": [
    "def LL_1(site_num, k, X, Y, mu, beta_0, tau = 1):\n",
    "    LL1 = 0\n",
    "    for i in range(site_num):\n",
    "        LL1 += L_1(k, X[i], Y[i], mu[i], beta_0, tau) / L(k, X[i], Y[i], mu[i], beta_0, tau)\n",
    "    return LL1"
   ]
  },
  {
   "cell_type": "code",
   "execution_count": 24,
   "metadata": {},
   "outputs": [],
   "source": [
    "def LL_2(site_num, k, X, Y, mu, beta_0, tau = 1):\n",
    "    LL2 = 0\n",
    "    for i in range(site_num):\n",
    "        LL2 += L_2(k, X[i], Y[i], mu[i], beta_0, tau) / L(k, X[i], Y[i], mu[i], beta_0, tau)\n",
    "    LL1 = LL_1(site_num, k, X, Y, mu, beta_0, tau)\n",
    "    return LL2 - LL1.reshape(LL1.shape[0],1) @ LL1.reshape(1,LL1.shape[0])"
   ]
  },
  {
   "cell_type": "code",
   "execution_count": 25,
   "metadata": {},
   "outputs": [],
   "source": [
    "def update(site_num, k, X, Y, mu, beta_0, tau = 1):\n",
    "    direction = LL_1(site_num, k, X, Y, mu, beta_0, tau).reshape(1,beta_0.shape[0]) @\\\n",
    "    inv(LL_2(site_num, k, X, Y, mu, beta_0, tau))\n",
    "    return direction"
   ]
  },
  {
   "cell_type": "markdown",
   "metadata": {},
   "source": [
    "# Simulation starts below"
   ]
  },
  {
   "cell_type": "markdown",
   "metadata": {},
   "source": [
    "### Main function"
   ]
  },
  {
   "cell_type": "code",
   "execution_count": 26,
   "metadata": {},
   "outputs": [
    {
     "name": "stdout",
     "output_type": "stream",
     "text": [
      "Initial beta: [[0]\n",
      " [0]\n",
      " [0]\n",
      " [0]\n",
      " [0]\n",
      " [0]\n",
      " [0]\n",
      " [0]\n",
      " [0]\n",
      " [0]] \n",
      "\n",
      "Step  1 :\n",
      "\n",
      "Mu:\n",
      " [0.055791301945490764, -0.07174378216208464] \n",
      "\n",
      "Beta:\n",
      " [[ 2.13692388e-06]\n",
      " [ 1.78504257e-05]\n",
      " [-1.44562508e-04]\n",
      " [-3.49877910e-04]\n",
      " [ 7.35318600e-05]\n",
      " [-3.53663855e-04]\n",
      " [-1.28625471e-04]\n",
      " [-1.17509605e-04]\n",
      " [ 1.52233736e-04]\n",
      " [ 2.09579367e-04]] \n",
      "\n",
      "Delta:\n",
      " [[ 2.13692388e-06]\n",
      " [ 1.78504257e-05]\n",
      " [-1.44562508e-04]\n",
      " [-3.49877910e-04]\n",
      " [ 7.35318600e-05]\n",
      " [-3.53663855e-04]\n",
      " [-1.28625471e-04]\n",
      " [-1.17509605e-04]\n",
      " [ 1.52233736e-04]\n",
      " [ 2.09579367e-04]] \n",
      "\n",
      "Mu:\n",
      " [0.055791301945490764, -0.07174378216208464] \n",
      "\n",
      "Beta:\n",
      " [[ 4.28487038e-06]\n",
      " [ 3.57336053e-05]\n",
      " [-2.89352619e-04]\n",
      " [-7.00303047e-04]\n",
      " [ 1.47180428e-04]\n",
      " [-7.07879979e-04]\n",
      " [-2.57453243e-04]\n",
      " [-2.35200197e-04]\n",
      " [ 3.04707418e-04]\n",
      " [ 4.19482350e-04]] \n",
      "\n",
      "Delta:\n",
      " [[ 2.14794650e-06]\n",
      " [ 1.78831795e-05]\n",
      " [-1.44790111e-04]\n",
      " [-3.50425137e-04]\n",
      " [ 7.36485679e-05]\n",
      " [-3.54216125e-04]\n",
      " [-1.28827772e-04]\n",
      " [-1.17690592e-04]\n",
      " [ 1.52473682e-04]\n",
      " [ 2.09902982e-04]] \n",
      "\n",
      "Mu:\n",
      " [0.055791301945490764, -0.07174378216208464] \n",
      "\n",
      "Beta:\n",
      " [[ 6.44385639e-06]\n",
      " [ 5.36495352e-05]\n",
      " [-4.34371379e-04]\n",
      " [-1.05127794e-03]\n",
      " [ 2.20946231e-04]\n",
      " [-1.06265098e-03]\n",
      " [-3.86484463e-04]\n",
      " [-3.53072664e-04]\n",
      " [ 4.57422167e-04]\n",
      " [ 6.29710439e-04]] \n",
      "\n",
      "Delta:\n",
      " [[ 2.15898601e-06]\n",
      " [ 1.79159299e-05]\n",
      " [-1.45018761e-04]\n",
      " [-3.50974893e-04]\n",
      " [ 7.37658027e-05]\n",
      " [-3.54770998e-04]\n",
      " [-1.29031220e-04]\n",
      " [-1.17872467e-04]\n",
      " [ 1.52714750e-04]\n",
      " [ 2.10228089e-04]] \n",
      "\n",
      "Mu:\n",
      " [0.055791301945490764, -0.07174378216208464] \n",
      "\n",
      "Beta:\n",
      " [[ 8.61389854e-06]\n",
      " [ 7.15982095e-05]\n",
      " [-5.79619841e-04]\n",
      " [-1.40280514e-03]\n",
      " [ 2.94829798e-04]\n",
      " [-1.41797947e-03]\n",
      " [-5.15720285e-04]\n",
      " [-4.71127897e-04]\n",
      " [ 6.10379110e-04]\n",
      " [ 8.40265136e-04]] \n",
      "\n",
      "Delta:\n",
      " [[ 2.17004215e-06]\n",
      " [ 1.79486743e-05]\n",
      " [-1.45248462e-04]\n",
      " [-3.51527195e-04]\n",
      " [ 7.38835671e-05]\n",
      " [-3.55328489e-04]\n",
      " [-1.29235822e-04]\n",
      " [-1.18055233e-04]\n",
      " [ 1.52956943e-04]\n",
      " [ 2.10554697e-04]] \n",
      "\n",
      "Mu:\n",
      " [0.055791301945490764, -0.07174378216208464] \n",
      "\n",
      "Beta:\n",
      " [[ 1.07950132e-05]\n",
      " [ 8.95796196e-05]\n",
      " [-7.25099060e-04]\n",
      " [-1.75488719e-03]\n",
      " [ 3.68831662e-04]\n",
      " [-1.77386808e-03]\n",
      " [-6.45161871e-04]\n",
      " [-5.89366794e-04]\n",
      " [ 7.63579379e-04]\n",
      " [ 1.05114795e-03]] \n",
      "\n",
      "Delta:\n",
      " [[ 2.18111464e-06]\n",
      " [ 1.79814102e-05]\n",
      " [-1.45479219e-04]\n",
      " [-3.52082059e-04]\n",
      " [ 7.40018640e-05]\n",
      " [-3.55888613e-04]\n",
      " [-1.29441586e-04]\n",
      " [-1.18238897e-04]\n",
      " [ 1.53200268e-04]\n",
      " [ 2.10882815e-04]] \n",
      "\n",
      "Mu:\n",
      " [0.055791301945490764, -0.07174378216208464] \n",
      "\n",
      "Beta:\n",
      " [[ 1.29872164e-05]\n",
      " [ 1.07593755e-04]\n",
      " [-8.70810099e-04]\n",
      " [-2.10752669e-03]\n",
      " [ 4.42952358e-04]\n",
      " [-2.13031946e-03]\n",
      " [-7.74810391e-04]\n",
      " [-7.07790255e-04]\n",
      " [ 9.17024109e-04]\n",
      " [ 1.26236040e-03]] \n",
      "\n",
      "Delta:\n",
      " [[ 2.19220323e-06]\n",
      " [ 1.80141349e-05]\n",
      " [-1.45711039e-04]\n",
      " [-3.52639500e-04]\n",
      " [ 7.41206961e-05]\n",
      " [-3.56451385e-04]\n",
      " [-1.29648520e-04]\n",
      " [-1.18423461e-04]\n",
      " [ 1.53444731e-04]\n",
      " [ 2.11212452e-04]] \n",
      "\n",
      "Mu:\n",
      " [0.055791301945490764, -0.07174378216208464] \n",
      "\n"
     ]
    },
    {
     "ename": "KeyboardInterrupt",
     "evalue": "",
     "output_type": "error",
     "traceback": [
      "\u001b[0;31m---------------------------------------------------------------------------\u001b[0m",
      "\u001b[0;31mKeyboardInterrupt\u001b[0m                         Traceback (most recent call last)",
      "\u001b[0;32m<ipython-input-26-71a2432cddf8>\u001b[0m in \u001b[0;36m<module>\u001b[0;34m\u001b[0m\n\u001b[1;32m     13\u001b[0m     \u001b[0;32mfor\u001b[0m \u001b[0msubstep\u001b[0m \u001b[0;32min\u001b[0m \u001b[0mrange\u001b[0m\u001b[0;34m(\u001b[0m\u001b[0;36m100\u001b[0m\u001b[0;34m)\u001b[0m\u001b[0;34m:\u001b[0m\u001b[0;34m\u001b[0m\u001b[0;34m\u001b[0m\u001b[0m\n\u001b[1;32m     14\u001b[0m         \u001b[0mprint\u001b[0m\u001b[0;34m(\u001b[0m\u001b[0;34m'Mu:\\n'\u001b[0m\u001b[0;34m,\u001b[0m \u001b[0mmu\u001b[0m\u001b[0;34m,\u001b[0m \u001b[0;34m'\\n'\u001b[0m\u001b[0;34m)\u001b[0m\u001b[0;34m\u001b[0m\u001b[0;34m\u001b[0m\u001b[0m\n\u001b[0;32m---> 15\u001b[0;31m         \u001b[0mnew_beta\u001b[0m \u001b[0;34m=\u001b[0m \u001b[0mbeta_0\u001b[0m \u001b[0;34m-\u001b[0m \u001b[0mupdate\u001b[0m\u001b[0;34m(\u001b[0m\u001b[0mlen\u001b[0m\u001b[0;34m(\u001b[0m\u001b[0mmu\u001b[0m\u001b[0;34m)\u001b[0m\u001b[0;34m,\u001b[0m \u001b[0mk\u001b[0m\u001b[0;34m,\u001b[0m \u001b[0mX\u001b[0m\u001b[0;34m,\u001b[0m \u001b[0mY\u001b[0m\u001b[0;34m,\u001b[0m \u001b[0mmu\u001b[0m\u001b[0;34m,\u001b[0m \u001b[0mbeta_0\u001b[0m\u001b[0;34m)\u001b[0m\u001b[0;34m.\u001b[0m\u001b[0mreshape\u001b[0m\u001b[0;34m(\u001b[0m\u001b[0mbeta_0\u001b[0m\u001b[0;34m.\u001b[0m\u001b[0mshape\u001b[0m\u001b[0;34m[\u001b[0m\u001b[0;36m0\u001b[0m\u001b[0;34m]\u001b[0m\u001b[0;34m,\u001b[0m\u001b[0;36m1\u001b[0m\u001b[0;34m)\u001b[0m\u001b[0;34m\u001b[0m\u001b[0;34m\u001b[0m\u001b[0m\n\u001b[0m\u001b[1;32m     16\u001b[0m         \u001b[0mdelta\u001b[0m \u001b[0;34m=\u001b[0m \u001b[0mnew_beta\u001b[0m \u001b[0;34m-\u001b[0m \u001b[0mbeta_0\u001b[0m\u001b[0;34m\u001b[0m\u001b[0;34m\u001b[0m\u001b[0m\n\u001b[1;32m     17\u001b[0m         \u001b[0mbeta_0\u001b[0m \u001b[0;34m=\u001b[0m \u001b[0mnew_beta\u001b[0m\u001b[0;34m\u001b[0m\u001b[0;34m\u001b[0m\u001b[0m\n",
      "\u001b[0;32m<ipython-input-25-5f14c71c7f82>\u001b[0m in \u001b[0;36mupdate\u001b[0;34m(site_num, k, X, Y, mu, beta_0, tau)\u001b[0m\n\u001b[1;32m      1\u001b[0m \u001b[0;32mdef\u001b[0m \u001b[0mupdate\u001b[0m\u001b[0;34m(\u001b[0m\u001b[0msite_num\u001b[0m\u001b[0;34m,\u001b[0m \u001b[0mk\u001b[0m\u001b[0;34m,\u001b[0m \u001b[0mX\u001b[0m\u001b[0;34m,\u001b[0m \u001b[0mY\u001b[0m\u001b[0;34m,\u001b[0m \u001b[0mmu\u001b[0m\u001b[0;34m,\u001b[0m \u001b[0mbeta_0\u001b[0m\u001b[0;34m,\u001b[0m \u001b[0mtau\u001b[0m \u001b[0;34m=\u001b[0m \u001b[0;36m1\u001b[0m\u001b[0;34m)\u001b[0m\u001b[0;34m:\u001b[0m\u001b[0;34m\u001b[0m\u001b[0;34m\u001b[0m\u001b[0m\n\u001b[1;32m      2\u001b[0m     \u001b[0mdirection\u001b[0m \u001b[0;34m=\u001b[0m \u001b[0mLL_1\u001b[0m\u001b[0;34m(\u001b[0m\u001b[0msite_num\u001b[0m\u001b[0;34m,\u001b[0m \u001b[0mk\u001b[0m\u001b[0;34m,\u001b[0m \u001b[0mX\u001b[0m\u001b[0;34m,\u001b[0m \u001b[0mY\u001b[0m\u001b[0;34m,\u001b[0m \u001b[0mmu\u001b[0m\u001b[0;34m,\u001b[0m \u001b[0mbeta_0\u001b[0m\u001b[0;34m,\u001b[0m \u001b[0mtau\u001b[0m\u001b[0;34m)\u001b[0m\u001b[0;34m.\u001b[0m\u001b[0mreshape\u001b[0m\u001b[0;34m(\u001b[0m\u001b[0;36m1\u001b[0m\u001b[0;34m,\u001b[0m\u001b[0mbeta_0\u001b[0m\u001b[0;34m.\u001b[0m\u001b[0mshape\u001b[0m\u001b[0;34m[\u001b[0m\u001b[0;36m0\u001b[0m\u001b[0;34m]\u001b[0m\u001b[0;34m)\u001b[0m \u001b[0;34m@\u001b[0m\u001b[0;31m\\\u001b[0m\u001b[0;34m\u001b[0m\u001b[0;34m\u001b[0m\u001b[0m\n\u001b[0;32m----> 3\u001b[0;31m     \u001b[0minv\u001b[0m\u001b[0;34m(\u001b[0m\u001b[0mLL_2\u001b[0m\u001b[0;34m(\u001b[0m\u001b[0msite_num\u001b[0m\u001b[0;34m,\u001b[0m \u001b[0mk\u001b[0m\u001b[0;34m,\u001b[0m \u001b[0mX\u001b[0m\u001b[0;34m,\u001b[0m \u001b[0mY\u001b[0m\u001b[0;34m,\u001b[0m \u001b[0mmu\u001b[0m\u001b[0;34m,\u001b[0m \u001b[0mbeta_0\u001b[0m\u001b[0;34m,\u001b[0m \u001b[0mtau\u001b[0m\u001b[0;34m)\u001b[0m\u001b[0;34m)\u001b[0m\u001b[0;34m\u001b[0m\u001b[0;34m\u001b[0m\u001b[0m\n\u001b[0m\u001b[1;32m      4\u001b[0m     \u001b[0;32mreturn\u001b[0m \u001b[0mdirection\u001b[0m\u001b[0;34m\u001b[0m\u001b[0;34m\u001b[0m\u001b[0m\n",
      "\u001b[0;32m<ipython-input-24-27cf08c34d91>\u001b[0m in \u001b[0;36mLL_2\u001b[0;34m(site_num, k, X, Y, mu, beta_0, tau)\u001b[0m\n\u001b[1;32m      2\u001b[0m     \u001b[0mLL2\u001b[0m \u001b[0;34m=\u001b[0m \u001b[0;36m0\u001b[0m\u001b[0;34m\u001b[0m\u001b[0;34m\u001b[0m\u001b[0m\n\u001b[1;32m      3\u001b[0m     \u001b[0;32mfor\u001b[0m \u001b[0mi\u001b[0m \u001b[0;32min\u001b[0m \u001b[0mrange\u001b[0m\u001b[0;34m(\u001b[0m\u001b[0msite_num\u001b[0m\u001b[0;34m)\u001b[0m\u001b[0;34m:\u001b[0m\u001b[0;34m\u001b[0m\u001b[0;34m\u001b[0m\u001b[0m\n\u001b[0;32m----> 4\u001b[0;31m         \u001b[0mLL2\u001b[0m \u001b[0;34m+=\u001b[0m \u001b[0mL_2\u001b[0m\u001b[0;34m(\u001b[0m\u001b[0mk\u001b[0m\u001b[0;34m,\u001b[0m \u001b[0mX\u001b[0m\u001b[0;34m[\u001b[0m\u001b[0mi\u001b[0m\u001b[0;34m]\u001b[0m\u001b[0;34m,\u001b[0m \u001b[0mY\u001b[0m\u001b[0;34m[\u001b[0m\u001b[0mi\u001b[0m\u001b[0;34m]\u001b[0m\u001b[0;34m,\u001b[0m \u001b[0mmu\u001b[0m\u001b[0;34m[\u001b[0m\u001b[0mi\u001b[0m\u001b[0;34m]\u001b[0m\u001b[0;34m,\u001b[0m \u001b[0mbeta_0\u001b[0m\u001b[0;34m,\u001b[0m \u001b[0mtau\u001b[0m\u001b[0;34m)\u001b[0m \u001b[0;34m/\u001b[0m \u001b[0mL\u001b[0m\u001b[0;34m(\u001b[0m\u001b[0mk\u001b[0m\u001b[0;34m,\u001b[0m \u001b[0mX\u001b[0m\u001b[0;34m[\u001b[0m\u001b[0mi\u001b[0m\u001b[0;34m]\u001b[0m\u001b[0;34m,\u001b[0m \u001b[0mY\u001b[0m\u001b[0;34m[\u001b[0m\u001b[0mi\u001b[0m\u001b[0;34m]\u001b[0m\u001b[0;34m,\u001b[0m \u001b[0mmu\u001b[0m\u001b[0;34m[\u001b[0m\u001b[0mi\u001b[0m\u001b[0;34m]\u001b[0m\u001b[0;34m,\u001b[0m \u001b[0mbeta_0\u001b[0m\u001b[0;34m,\u001b[0m \u001b[0mtau\u001b[0m\u001b[0;34m)\u001b[0m\u001b[0;34m\u001b[0m\u001b[0;34m\u001b[0m\u001b[0m\n\u001b[0m\u001b[1;32m      5\u001b[0m     \u001b[0mLL1\u001b[0m \u001b[0;34m=\u001b[0m \u001b[0mLL_1\u001b[0m\u001b[0;34m(\u001b[0m\u001b[0msite_num\u001b[0m\u001b[0;34m,\u001b[0m \u001b[0mk\u001b[0m\u001b[0;34m,\u001b[0m \u001b[0mX\u001b[0m\u001b[0;34m,\u001b[0m \u001b[0mY\u001b[0m\u001b[0;34m,\u001b[0m \u001b[0mmu\u001b[0m\u001b[0;34m,\u001b[0m \u001b[0mbeta_0\u001b[0m\u001b[0;34m,\u001b[0m \u001b[0mtau\u001b[0m\u001b[0;34m)\u001b[0m\u001b[0;34m\u001b[0m\u001b[0;34m\u001b[0m\u001b[0m\n\u001b[1;32m      6\u001b[0m     \u001b[0;32mreturn\u001b[0m \u001b[0mLL2\u001b[0m \u001b[0;34m-\u001b[0m \u001b[0mLL1\u001b[0m\u001b[0;34m.\u001b[0m\u001b[0mreshape\u001b[0m\u001b[0;34m(\u001b[0m\u001b[0mLL1\u001b[0m\u001b[0;34m.\u001b[0m\u001b[0mshape\u001b[0m\u001b[0;34m[\u001b[0m\u001b[0;36m0\u001b[0m\u001b[0;34m]\u001b[0m\u001b[0;34m,\u001b[0m\u001b[0;36m1\u001b[0m\u001b[0;34m)\u001b[0m \u001b[0;34m@\u001b[0m \u001b[0mLL1\u001b[0m\u001b[0;34m.\u001b[0m\u001b[0mreshape\u001b[0m\u001b[0;34m(\u001b[0m\u001b[0;36m1\u001b[0m\u001b[0;34m,\u001b[0m\u001b[0mLL1\u001b[0m\u001b[0;34m.\u001b[0m\u001b[0mshape\u001b[0m\u001b[0;34m[\u001b[0m\u001b[0;36m0\u001b[0m\u001b[0;34m]\u001b[0m\u001b[0;34m)\u001b[0m\u001b[0;34m\u001b[0m\u001b[0;34m\u001b[0m\u001b[0m\n",
      "\u001b[0;32m<ipython-input-21-7819fd26e2bd>\u001b[0m in \u001b[0;36mL_2\u001b[0;34m(k, x, y, mu, beta_0, tau)\u001b[0m\n\u001b[1;32m      7\u001b[0m             \u001b[0mboogie\u001b[0m \u001b[0;34m+=\u001b[0m \u001b[0;34m-\u001b[0m\u001b[0mx\u001b[0m\u001b[0;34m[\u001b[0m\u001b[0mj\u001b[0m\u001b[0;34m]\u001b[0m\u001b[0;34m.\u001b[0m\u001b[0mreshape\u001b[0m\u001b[0;34m(\u001b[0m\u001b[0mx\u001b[0m\u001b[0;34m[\u001b[0m\u001b[0mj\u001b[0m\u001b[0;34m]\u001b[0m\u001b[0;34m.\u001b[0m\u001b[0mshape\u001b[0m\u001b[0;34m[\u001b[0m\u001b[0;36m0\u001b[0m\u001b[0;34m]\u001b[0m\u001b[0;34m,\u001b[0m\u001b[0;36m1\u001b[0m\u001b[0;34m)\u001b[0m \u001b[0;34m@\u001b[0m\u001b[0;31m\\\u001b[0m\u001b[0;34m\u001b[0m\u001b[0;34m\u001b[0m\u001b[0m\n\u001b[1;32m      8\u001b[0m             Pi_1(x[j], beta_0, mu + np.sqrt(2 * np.pi) *\\\n\u001b[0;32m----> 9\u001b[0;31m                  omega(x, y, mu, beta_0, tau) * x_k[i]).reshape(1,x[j].shape[0])\n\u001b[0m\u001b[1;32m     10\u001b[0m         \u001b[0mL2\u001b[0m \u001b[0;34m+=\u001b[0m \u001b[0mnp\u001b[0m\u001b[0;34m.\u001b[0m\u001b[0msqrt\u001b[0m\u001b[0;34m(\u001b[0m\u001b[0;36m2\u001b[0m \u001b[0;34m*\u001b[0m \u001b[0mnp\u001b[0m\u001b[0;34m.\u001b[0m\u001b[0mpi\u001b[0m\u001b[0;34m)\u001b[0m \u001b[0;34m*\u001b[0m \u001b[0momega\u001b[0m\u001b[0;34m(\u001b[0m\u001b[0mx\u001b[0m\u001b[0;34m,\u001b[0m \u001b[0my\u001b[0m\u001b[0;34m,\u001b[0m \u001b[0mmu\u001b[0m\u001b[0;34m,\u001b[0m \u001b[0mbeta_0\u001b[0m\u001b[0;34m)\u001b[0m \u001b[0;34m*\u001b[0m\u001b[0;31m\\\u001b[0m\u001b[0;34m\u001b[0m\u001b[0;34m\u001b[0m\u001b[0m\n\u001b[1;32m     11\u001b[0m         (f_k(k, x, y, mu, beta_0, tau = tau)[i] *\\\n",
      "\u001b[0;32m<ipython-input-11-c819c9174085>\u001b[0m in \u001b[0;36momega\u001b[0;34m(x, y, mu, beta_0, tau)\u001b[0m\n\u001b[1;32m      1\u001b[0m \u001b[0;32mdef\u001b[0m \u001b[0momega\u001b[0m\u001b[0;34m(\u001b[0m\u001b[0mx\u001b[0m\u001b[0;34m,\u001b[0m \u001b[0my\u001b[0m\u001b[0;34m,\u001b[0m \u001b[0mmu\u001b[0m\u001b[0;34m,\u001b[0m \u001b[0mbeta_0\u001b[0m\u001b[0;34m,\u001b[0m \u001b[0mtau\u001b[0m \u001b[0;34m=\u001b[0m \u001b[0;36m1\u001b[0m\u001b[0;34m)\u001b[0m\u001b[0;34m:\u001b[0m\u001b[0;34m\u001b[0m\u001b[0;34m\u001b[0m\u001b[0m\n\u001b[0;32m----> 2\u001b[0;31m     \u001b[0;32mreturn\u001b[0m \u001b[0mnp\u001b[0m\u001b[0;34m.\u001b[0m\u001b[0msqrt\u001b[0m\u001b[0;34m(\u001b[0m\u001b[0;34m-\u001b[0m\u001b[0;36m1\u001b[0m\u001b[0;34m/\u001b[0m\u001b[0mg_2\u001b[0m\u001b[0;34m(\u001b[0m\u001b[0mx\u001b[0m\u001b[0;34m,\u001b[0m \u001b[0my\u001b[0m\u001b[0;34m,\u001b[0m \u001b[0mmu\u001b[0m\u001b[0;34m,\u001b[0m \u001b[0mbeta_0\u001b[0m\u001b[0;34m)\u001b[0m\u001b[0;34m)\u001b[0m\u001b[0;34m\u001b[0m\u001b[0;34m\u001b[0m\u001b[0m\n\u001b[0m",
      "\u001b[0;32m<ipython-input-8-3c729634dd78>\u001b[0m in \u001b[0;36mg_2\u001b[0;34m(x, y, mu, beta_0, tau)\u001b[0m\n\u001b[1;32m      1\u001b[0m \u001b[0;32mdef\u001b[0m \u001b[0mg_2\u001b[0m\u001b[0;34m(\u001b[0m\u001b[0mx\u001b[0m\u001b[0;34m,\u001b[0m \u001b[0my\u001b[0m\u001b[0;34m,\u001b[0m \u001b[0mmu\u001b[0m\u001b[0;34m,\u001b[0m \u001b[0mbeta_0\u001b[0m\u001b[0;34m,\u001b[0m \u001b[0mtau\u001b[0m \u001b[0;34m=\u001b[0m \u001b[0;36m1\u001b[0m\u001b[0;34m)\u001b[0m\u001b[0;34m:\u001b[0m\u001b[0;34m\u001b[0m\u001b[0;34m\u001b[0m\u001b[0m\n\u001b[0;32m----> 2\u001b[0;31m     \u001b[0;32mreturn\u001b[0m \u001b[0msum\u001b[0m\u001b[0;34m(\u001b[0m\u001b[0;34m-\u001b[0m \u001b[0mnp\u001b[0m\u001b[0;34m.\u001b[0m\u001b[0masarray\u001b[0m\u001b[0;34m(\u001b[0m\u001b[0;34m(\u001b[0m\u001b[0mnp\u001b[0m\u001b[0;34m.\u001b[0m\u001b[0mexp\u001b[0m\u001b[0;34m(\u001b[0m\u001b[0mx\u001b[0m \u001b[0;34m@\u001b[0m \u001b[0mbeta_0\u001b[0m \u001b[0;34m+\u001b[0m \u001b[0mmu\u001b[0m\u001b[0;34m)\u001b[0m \u001b[0;34m/\u001b[0m \u001b[0;34m(\u001b[0m\u001b[0;36m1\u001b[0m \u001b[0;34m+\u001b[0m \u001b[0mnp\u001b[0m\u001b[0;34m.\u001b[0m\u001b[0mexp\u001b[0m\u001b[0;34m(\u001b[0m\u001b[0mx\u001b[0m \u001b[0;34m@\u001b[0m \u001b[0mbeta_0\u001b[0m \u001b[0;34m+\u001b[0m \u001b[0mmu\u001b[0m\u001b[0;34m)\u001b[0m\u001b[0;34m)\u001b[0m\u001b[0;34m**\u001b[0m\u001b[0;36m2\u001b[0m\u001b[0;34m)\u001b[0m\u001b[0;34m)\u001b[0m\u001b[0;34m)\u001b[0m \u001b[0;34m-\u001b[0m \u001b[0;36m1\u001b[0m\u001b[0;34m/\u001b[0m\u001b[0mtau\u001b[0m\u001b[0;34m**\u001b[0m\u001b[0;36m2\u001b[0m\u001b[0;34m\u001b[0m\u001b[0;34m\u001b[0m\u001b[0m\n\u001b[0m",
      "\u001b[0;31mKeyboardInterrupt\u001b[0m: "
     ]
    }
   ],
   "source": [
    "beta_0 = np.repeat(0, 10).reshape(10,1)\n",
    "# betea_0 = true_beta\n",
    "mu = [0.1, 0.1]\n",
    "X = [X1, X2]\n",
    "Y = [y1, y2]\n",
    "k = 2\n",
    "tau = 1\n",
    "print('Initial beta:', beta_0, \"\\n\")\n",
    "for step in range(10):\n",
    "    print('Step ', step+1, ':\\n')\n",
    "    for i in range(len(mu)): \n",
    "        mu[i] = max_mu(X[i], Y[i], mu[i], beta_0)\n",
    "    for substep in range(100):\n",
    "        print('Mu:\\n', mu, '\\n')\n",
    "        new_beta = beta_0 - update(len(mu), k, X, Y, mu, beta_0).reshape(beta_0.shape[0],1)\n",
    "        delta = new_beta - beta_0\n",
    "        beta_0 = new_beta\n",
    "        print('Beta:\\n', beta_0, '\\n')\n",
    "        print('Delta:\\n', delta, '\\n')"
   ]
  },
  {
   "cell_type": "code",
   "execution_count": null,
   "metadata": {},
   "outputs": [],
   "source": []
  },
  {
   "cell_type": "code",
   "execution_count": null,
   "metadata": {},
   "outputs": [],
   "source": []
  },
  {
   "cell_type": "code",
   "execution_count": null,
   "metadata": {},
   "outputs": [],
   "source": []
  },
  {
   "cell_type": "code",
   "execution_count": null,
   "metadata": {},
   "outputs": [],
   "source": []
  },
  {
   "cell_type": "code",
   "execution_count": null,
   "metadata": {},
   "outputs": [],
   "source": []
  },
  {
   "cell_type": "code",
   "execution_count": null,
   "metadata": {},
   "outputs": [],
   "source": []
  },
  {
   "cell_type": "code",
   "execution_count": null,
   "metadata": {},
   "outputs": [],
   "source": []
  },
  {
   "cell_type": "code",
   "execution_count": null,
   "metadata": {},
   "outputs": [],
   "source": []
  },
  {
   "cell_type": "code",
   "execution_count": null,
   "metadata": {},
   "outputs": [],
   "source": []
  },
  {
   "cell_type": "code",
   "execution_count": null,
   "metadata": {},
   "outputs": [],
   "source": []
  },
  {
   "cell_type": "code",
   "execution_count": null,
   "metadata": {},
   "outputs": [],
   "source": []
  },
  {
   "cell_type": "code",
   "execution_count": null,
   "metadata": {},
   "outputs": [],
   "source": []
  },
  {
   "cell_type": "markdown",
   "metadata": {},
   "source": [
    "# Generated the data into files for R"
   ]
  },
  {
   "cell_type": "code",
   "execution_count": 981,
   "metadata": {},
   "outputs": [],
   "source": [
    "np.savetxt('X1.csv', X1, delimiter=\",\")\n",
    "np.savetxt('y1.csv', y1, delimiter=\",\")\n",
    "np.savetxt('X2.csv', X2, delimiter=\",\")\n",
    "np.savetxt('y2.csv', y2, delimiter=\",\")"
   ]
  },
  {
   "cell_type": "markdown",
   "metadata": {},
   "source": [
    "# The followings are NOT true"
   ]
  },
  {
   "cell_type": "markdown",
   "metadata": {},
   "source": [
    "## Step 1: Combine data to generate golden rules"
   ]
  },
  {
   "cell_type": "code",
   "execution_count": 564,
   "metadata": {},
   "outputs": [],
   "source": [
    "col = []\n",
    "for i in range(10): col += ['V'+str(i+1)]\n",
    "X1 = pd.DataFrame(X1, columns=col)\n",
    "X2 = pd.DataFrame(X2, columns=col)\n",
    "# X = pd.concat([X1, X2], ignore_index = True)\n",
    "y = np.concatenate((y1, y2))"
   ]
  },
  {
   "cell_type": "markdown",
   "metadata": {},
   "source": [
    "Notation for $\\pi_{ij}$:\n",
    "\n",
    "$$\\pi_{ij} = \\dfrac{\\exp{(X_{ij}^\\top\\beta_0})}{1 + \\exp{(X_{ij}^\\top\\beta_0})}$$"
   ]
  },
  {
   "cell_type": "code",
   "execution_count": 566,
   "metadata": {},
   "outputs": [],
   "source": [
    "def Pi(x, beta_0):\n",
    "    return np.asarray((np.exp(x @ beta_0) / (1 + np.exp(x @ beta_0)))) #need to add /mu_{i0}?"
   ]
  },
  {
   "cell_type": "markdown",
   "metadata": {},
   "source": [
    "Notation for $L_1$:\n",
    "\n",
    "$$L_1 = \\sum_{j=1}^{n_i}(y_{ij}X_{ij}-\\pi_{ij}X_{ij})$$"
   ]
  },
  {
   "cell_type": "code",
   "execution_count": 567,
   "metadata": {},
   "outputs": [],
   "source": [
    "def L_1(x, y, beta_0):\n",
    "    return np.expand_dims(np.asarray((y * x - Pi(x, beta_0) * x).sum(axis = 0)), axis=1)"
   ]
  },
  {
   "cell_type": "markdown",
   "metadata": {},
   "source": [
    "Notation for $L_2$:\n",
    "\n",
    "$$L_2 = - \\sum_{j=1}^{n_i}[\\pi_{ij}(1-\\pi_{ij})X_{ij}X_{ij}^\\top]$$"
   ]
  },
  {
   "cell_type": "code",
   "execution_count": 568,
   "metadata": {},
   "outputs": [],
   "source": [
    "def L_2(x, y, beta_0):\n",
    "    XX = 0\n",
    "    p = Pi(x, beta_0) * (1- Pi(x, beta_0))\n",
    "    for i in range(x.shape[0]):\n",
    "#         XX += p[i] * ((np.asarray(x.iloc[i,:]).reshape(x.shape[1],1)))**2 \n",
    "        XX += p[i] * (np.asarray(x.iloc[i,:]).reshape(x.shape[1],1) \\\n",
    "        @ np.asarray(x.iloc[i,:]).reshape(x.shape[1],1).transpose())\n",
    "    L2 = -XX\n",
    "    return L2"
   ]
  },
  {
   "cell_type": "code",
   "execution_count": 588,
   "metadata": {},
   "outputs": [],
   "source": [
    "beta_0 = np.repeat(0, 10).reshape(10,1)"
   ]
  },
  {
   "cell_type": "code",
   "execution_count": 1111,
   "metadata": {},
   "outputs": [
    {
     "name": "stdout",
     "output_type": "stream",
     "text": [
      "Initial beta: [[0]\n",
      " [0]\n",
      " [0]\n",
      " [0]\n",
      " [0]\n",
      " [0]\n",
      " [0]\n",
      " [0]\n",
      " [0]\n",
      " [0]] \n",
      "\n",
      "Step  1 :\n",
      "\n"
     ]
    },
    {
     "ename": "TypeError",
     "evalue": "L_2() missing 2 required positional arguments: 'mu' and 'beta_0'",
     "output_type": "error",
     "traceback": [
      "\u001b[0;31m---------------------------------------------------------------------------\u001b[0m",
      "\u001b[0;31mTypeError\u001b[0m                                 Traceback (most recent call last)",
      "\u001b[0;32m<ipython-input-1111-9e896dae60ff>\u001b[0m in \u001b[0;36m<module>\u001b[0;34m\u001b[0m\n\u001b[1;32m      3\u001b[0m     \u001b[0mprint\u001b[0m\u001b[0;34m(\u001b[0m\u001b[0;34m'Step '\u001b[0m\u001b[0;34m,\u001b[0m \u001b[0mi\u001b[0m\u001b[0;34m+\u001b[0m\u001b[0;36m1\u001b[0m\u001b[0;34m,\u001b[0m \u001b[0;34m':\\n'\u001b[0m\u001b[0;34m)\u001b[0m\u001b[0;34m\u001b[0m\u001b[0;34m\u001b[0m\u001b[0m\n\u001b[1;32m      4\u001b[0m     \u001b[0mbeta_0\u001b[0m\u001b[0;34m\u001b[0m\u001b[0;34m\u001b[0m\u001b[0m\n\u001b[0;32m----> 5\u001b[0;31m     \u001b[0mbeta_new\u001b[0m \u001b[0;34m=\u001b[0m \u001b[0mbeta_0\u001b[0m \u001b[0;34m-\u001b[0m \u001b[0minv\u001b[0m\u001b[0;34m(\u001b[0m\u001b[0mL_2\u001b[0m\u001b[0;34m(\u001b[0m\u001b[0mX1\u001b[0m\u001b[0;34m,\u001b[0m \u001b[0my1\u001b[0m\u001b[0;34m,\u001b[0m \u001b[0mbeta_0\u001b[0m\u001b[0;34m)\u001b[0m \u001b[0;34m+\u001b[0m \u001b[0mL_2\u001b[0m\u001b[0;34m(\u001b[0m\u001b[0mX2\u001b[0m\u001b[0;34m,\u001b[0m \u001b[0my2\u001b[0m\u001b[0;34m,\u001b[0m \u001b[0mbeta_0\u001b[0m\u001b[0;34m)\u001b[0m\u001b[0;34m)\u001b[0m\u001b[0;31m \u001b[0m\u001b[0;31m\\\u001b[0m\u001b[0;34m\u001b[0m\u001b[0;34m\u001b[0m\u001b[0m\n\u001b[0m\u001b[1;32m      6\u001b[0m     \u001b[0;34m@\u001b[0m \u001b[0;34m(\u001b[0m\u001b[0mL_1\u001b[0m\u001b[0;34m(\u001b[0m\u001b[0mX1\u001b[0m\u001b[0;34m,\u001b[0m \u001b[0my1\u001b[0m\u001b[0;34m,\u001b[0m \u001b[0mbeta_0\u001b[0m\u001b[0;34m)\u001b[0m \u001b[0;34m+\u001b[0m \u001b[0mL_1\u001b[0m\u001b[0;34m(\u001b[0m\u001b[0mX2\u001b[0m\u001b[0;34m,\u001b[0m \u001b[0my2\u001b[0m\u001b[0;34m,\u001b[0m \u001b[0mbeta_0\u001b[0m\u001b[0;34m)\u001b[0m\u001b[0;34m)\u001b[0m\u001b[0;34m\u001b[0m\u001b[0;34m\u001b[0m\u001b[0m\n\u001b[1;32m      7\u001b[0m     \u001b[0mdelta\u001b[0m \u001b[0;34m=\u001b[0m \u001b[0mbeta_new\u001b[0m \u001b[0;34m-\u001b[0m \u001b[0mbeta_0\u001b[0m\u001b[0;34m\u001b[0m\u001b[0;34m\u001b[0m\u001b[0m\n",
      "\u001b[0;31mTypeError\u001b[0m: L_2() missing 2 required positional arguments: 'mu' and 'beta_0'"
     ]
    }
   ],
   "source": [
    "print('Initial beta:', beta_0, \"\\n\")\n",
    "for i in range(100):\n",
    "    print('Step ', i+1, ':\\n')\n",
    "    beta_0\n",
    "    beta_new = beta_0 - inv(L_2(X1, y1, beta_0) + L_2(X2, y2, beta_0)) \\\n",
    "    @ (L_1(X1, y1, beta_0) + L_1(X2, y2, beta_0))\n",
    "    delta = beta_new - beta_0\n",
    "    beta_0 = beta_new\n",
    "    print('Beta:\\n', beta_0, '\\n')\n",
    "    print('Delta:\\n', delta, '\\n')\n",
    "    if (max(np.abs(delta)) == 0):\n",
    "        break;"
   ]
  },
  {
   "cell_type": "code",
   "execution_count": 591,
   "metadata": {},
   "outputs": [
    {
     "data": {
      "text/plain": [
       "array([[-2017.92540591,   278.96089871,    55.13581563,    42.00608349,\n",
       "           48.96279807,   210.41011784,   147.62714793,   352.95317426,\n",
       "          260.13291691,    53.38371126],\n",
       "       [  278.96089871, -1882.57363095,   104.82882103,   -71.34377803,\n",
       "          332.49827995,   -40.34237896,   356.65541555,   265.13382507,\n",
       "          523.47528537,   316.84156834],\n",
       "       [   55.13581563,   104.82882103, -2018.44299488,   -17.02955605,\n",
       "          -58.167005  ,    96.91290635,   -21.95912822,    81.27766099,\n",
       "          252.23937134,   165.53816921],\n",
       "       [   42.00608349,   -71.34377803,   -17.02955605, -1945.83029471,\n",
       "           63.59659857,    38.07785122,    34.52403033,    49.45718014,\n",
       "           84.64072536,    18.7808896 ],\n",
       "       [   48.96279807,   332.49827995,   -58.167005  ,    63.59659857,\n",
       "        -1959.36670765,    62.41459172,    57.82157479,   327.73823271,\n",
       "          304.5362868 ,   118.92167227],\n",
       "       [  210.41011784,   -40.34237896,    96.91290635,    38.07785122,\n",
       "           62.41459172, -2138.7555936 ,   147.44532336,    20.86502362,\n",
       "          309.24696103,    35.77874341],\n",
       "       [  147.62714793,   356.65541555,   -21.95912822,    34.52403033,\n",
       "           57.82157479,   147.44532336, -1984.62060979,   136.9308401 ,\n",
       "           94.2367146 ,    81.69952782],\n",
       "       [  352.95317426,   265.13382507,    81.27766099,    49.45718014,\n",
       "          327.73823271,    20.86502362,   136.9308401 , -1843.78467883,\n",
       "          501.73291147,   396.18460466],\n",
       "       [  260.13291691,   523.47528537,   252.23937134,    84.64072536,\n",
       "          304.5362868 ,   309.24696103,    94.2367146 ,   501.73291147,\n",
       "        -1637.42767434,   294.30687323],\n",
       "       [   53.38371126,   316.84156834,   165.53816921,    18.7808896 ,\n",
       "          118.92167227,    35.77874341,    81.69952782,   396.18460466,\n",
       "          294.30687323, -2072.21904408]])"
      ]
     },
     "execution_count": 591,
     "metadata": {},
     "output_type": "execute_result"
    }
   ],
   "source": [
    "L_2(X1, y1, beta_0)+L_2(X2, y2, beta_0)"
   ]
  },
  {
   "cell_type": "code",
   "execution_count": 550,
   "metadata": {},
   "outputs": [
    {
     "data": {
      "text/plain": [
       "array([[-4140.35624389],\n",
       "       [-4107.14077318],\n",
       "       [-4096.38366046],\n",
       "       [-4070.5526563 ],\n",
       "       [-3959.86346214],\n",
       "       [-4006.78389039],\n",
       "       [-3930.36488249],\n",
       "       [-4527.7504776 ],\n",
       "       [-3984.77596394],\n",
       "       [-4300.38682221]])"
      ]
     },
     "execution_count": 550,
     "metadata": {},
     "output_type": "execute_result"
    }
   ],
   "source": [
    "L_2(X1, y1, beta_0)"
   ]
  },
  {
   "cell_type": "code",
   "execution_count": 565,
   "metadata": {},
   "outputs": [
    {
     "data": {
      "text/plain": [
       "array([[-0.0217251 ],\n",
       "       [ 0.35104993],\n",
       "       [-2.04337875],\n",
       "       [-5.75784864],\n",
       "       [ 1.19368298],\n",
       "       [-5.78128915],\n",
       "       [-2.31044591],\n",
       "       [-2.13129101],\n",
       "       [ 2.56380536],\n",
       "       [ 3.40715245]])"
      ]
     },
     "execution_count": 565,
     "metadata": {},
     "output_type": "execute_result"
    }
   ],
   "source": [
    "true_beta"
   ]
  },
  {
   "cell_type": "code",
   "execution_count": 587,
   "metadata": {},
   "outputs": [
    {
     "data": {
      "text/plain": [
       "array([[-0.10817893],\n",
       "       [-0.15577158],\n",
       "       [-0.04324669],\n",
       "       [-0.0087236 ],\n",
       "       [-0.11681485],\n",
       "       [-0.05317466],\n",
       "       [-0.07200324],\n",
       "       [-0.17340093],\n",
       "       [-0.20606506],\n",
       "       [-0.11675683]])"
      ]
     },
     "execution_count": 587,
     "metadata": {},
     "output_type": "execute_result"
    }
   ],
   "source": [
    "inv(L_2(X1, y1, beta_0) + L_2(X2, y2, beta_0)) @ (L_1(X1, y1, beta_0) + L_1(X2, y2, beta_0))"
   ]
  },
  {
   "cell_type": "code",
   "execution_count": null,
   "metadata": {},
   "outputs": [],
   "source": []
  }
 ],
 "metadata": {
  "kernelspec": {
   "display_name": "Python 3",
   "language": "python",
   "name": "python3"
  },
  "language_info": {
   "codemirror_mode": {
    "name": "ipython",
    "version": 3
   },
   "file_extension": ".py",
   "mimetype": "text/x-python",
   "name": "python",
   "nbconvert_exporter": "python",
   "pygments_lexer": "ipython3",
   "version": "3.7.4"
  }
 },
 "nbformat": 4,
 "nbformat_minor": 2
}
