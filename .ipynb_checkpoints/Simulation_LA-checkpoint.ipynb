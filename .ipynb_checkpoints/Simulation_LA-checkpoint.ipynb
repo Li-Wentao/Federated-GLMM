{
 "cells": [
  {
   "cell_type": "markdown",
   "metadata": {},
   "source": [
    "# The Laplace approximation"
   ]
  },
  {
   "cell_type": "markdown",
   "metadata": {},
   "source": [
    "### Load packages"
   ]
  },
  {
   "cell_type": "code",
   "execution_count": 4,
   "metadata": {},
   "outputs": [],
   "source": [
    "from numpy.polynomial.hermite import hermgauss\n",
    "from matplotlib import pyplot as plt\n",
    "from numpy.linalg import inv\n",
    "import pandas as pd\n",
    "import numpy as np\n",
    "import scipy"
   ]
  },
  {
   "cell_type": "markdown",
   "metadata": {},
   "source": [
    "### Randomized simulation data for two sites\n",
    "- Set random seed\n",
    "- Generate 10 true betas ranged in (-10, 10)\n",
    "- Generate 2 sigmas for noise variance in different sites\n",
    "- Generate data X1 and X2 with size (1000, 10)\n",
    "- Generate result y1 and y2 with bernoulli distibution "
   ]
  },
  {
   "cell_type": "code",
   "execution_count": 5,
   "metadata": {},
   "outputs": [],
   "source": [
    "np.random.seed(1)\n",
    "true_beta = (np.random.rand(10,1) - np.random.rand(10,1)) * 10\n",
    "true_sigma = np.random.rand(2)\n",
    "X1 = (np.random.rand(1000, 10) - np.random.rand(1000, 10)) * 10\n",
    "p1 = 1 / (1 + np.exp(-(X1 @ true_beta + np.random.normal(0, true_sigma[0], 1000).reshape(1000, 1))))\n",
    "y1 = np.random.binomial(1,p1)\n",
    "X2 = (np.random.rand(1000, 10) - np.random.rand(1000, 10)) * 10\n",
    "p2 = 1 / (1 + np.exp(-(X2 @ true_beta + np.random.normal(0, true_sigma[1], 1000).reshape(1000, 1))))\n",
    "y2 = np.random.binomial(1,p2)"
   ]
  },
  {
   "cell_type": "markdown",
   "metadata": {},
   "source": [
    "### Definitions"
   ]
  },
  {
   "cell_type": "markdown",
   "metadata": {},
   "source": [
    "Notation for $\\pi_{ij}$:\n",
    "\n",
    "$$\\pi_{ij} = \\dfrac{\\exp{(X_{ij}^\\top\\beta_0}+\\mu_{i0})}{1 + \\exp{(X_{ij}^\\top\\beta_0}+\\mu_{i0})}$$"
   ]
  },
  {
   "cell_type": "code",
   "execution_count": 6,
   "metadata": {},
   "outputs": [],
   "source": [
    "def Pi(x, beta_0, mu):\n",
    "    return np.asarray((np.exp(x @ beta_0 + mu) / (1 + np.exp(x @ beta_0 + mu))))"
   ]
  },
  {
   "cell_type": "markdown",
   "metadata": {},
   "source": [
    "Notation for $g(\\mu_{i0})$:\n",
    "\n",
    "$$g(\\mu_{i0};\\beta_0)=\\sum_{j=1}^{n_i}\\left[y_{ij}\\log\\pi_{ij}+(1-y_{ij})\\log(1-\\pi_{ij})\\right]+\\log\\phi(\\mu_{i0};\\theta_0)$$"
   ]
  },
  {
   "cell_type": "code",
   "execution_count": 7,
   "metadata": {},
   "outputs": [],
   "source": [
    "def g(x, y, mu, beta_0, tau=1):\n",
    "    g = sum(y * np.log(Pi(x, beta_0, mu)) + (1 - y) * np.log(1 - Pi(x, beta_0, mu))) \\\n",
    "    + np.log((np.sqrt(2 * np.pi) * tau)**(-1) * np.exp(-mu**2/(2 * tau**2)))\n",
    "    return g"
   ]
  },
  {
   "cell_type": "markdown",
   "metadata": {},
   "source": [
    "Notation for $g_\\beta(\\mu_{i0})$:\n",
    "\n",
    "$$\\dfrac{\\partial g}{\\partial \\beta_0}=\\sum_{j=1}^{n_i}(X_{ij}y_{ij}-X_{ij}\\pi_{ij})$$"
   ]
  },
  {
   "cell_type": "code",
   "execution_count": 19,
   "metadata": {},
   "outputs": [],
   "source": [
    "def g_b(x, y, mu, beta_0, tau = 1):\n",
    "    return np.sum(x * y - x * Pi(x, beta_0, mu), axis = 0)"
   ]
  },
  {
   "cell_type": "markdown",
   "metadata": {},
   "source": [
    "Notation for $g_\\mu(\\mu_{i0})$:\n",
    "\n",
    "$$\\dfrac{\\partial g}{\\partial \\mu_{i0}}=\\sum_{j=1}^{n_i}(y_{ij}-\\pi_{ij})-\\dfrac{\\mu_{i0}}{\\tau_0^2}$$"
   ]
  },
  {
   "cell_type": "code",
   "execution_count": 8,
   "metadata": {},
   "outputs": [],
   "source": [
    "def g_u(x, y, mu, beta_0, tau = 1):\n",
    "    return sum(y - Pi(x, beta_0, mu)) - mu/tau**2"
   ]
  },
  {
   "cell_type": "markdown",
   "metadata": {},
   "source": [
    "Notation for $g_{\\mu\\mu}(\\mu_{i0})$:\n",
    "\n",
    "$$\\dfrac{\\partial^2 g}{\\partial \\mu_{i0}^2}=-\\sum_{j=1}^{n_i}\\dfrac{\\partial\\pi_{ij}}{\\partial\\mu_{i0}}-\\dfrac{1}{\\tau_0^2}$$"
   ]
  },
  {
   "cell_type": "code",
   "execution_count": 14,
   "metadata": {},
   "outputs": [],
   "source": [
    "def g_uu(x, y, mu, beta_0, tau = 1):\n",
    "    return sum(- np.asarray((np.exp(x @ beta_0 + mu) / (1 + np.exp(x @ beta_0 + mu))**2))) - 1/tau**2"
   ]
  },
  {
   "cell_type": "markdown",
   "metadata": {},
   "source": [
    "Notation for $g_{\\mu\\beta}(\\mu_{i0})$:\n",
    "\n",
    "$$\\dfrac{\\partial^2 g}{\\partial \\mu_{i0}\\partial \\beta_0}=-\\sum_{j=1}^{n_i}\\dfrac{\\partial\\pi_{ij}}{\\partial\\beta_0}$$"
   ]
  },
  {
   "cell_type": "code",
   "execution_count": 95,
   "metadata": {},
   "outputs": [],
   "source": [
    "def g_ub(x, y, mu, beta_0, tau = 1):\n",
    "    return np.sum(- x * np.asarray((np.exp(x @ beta_0 + mu) / (1 + np.exp(x @ beta_0 + mu))**2)), axis = 0)"
   ]
  },
  {
   "cell_type": "markdown",
   "metadata": {},
   "source": [
    "Notation for $g_{\\beta\\beta}(\\mu_{i0})$:\n",
    "\n",
    "$$\\dfrac{\\partial^2 g}{\\partial \\beta_0^2}=-\\sum_{j=1}^{n_i}X_{ij}\\dfrac{\\partial\\pi_{ij}}{\\partial\\beta_0}$$"
   ]
  },
  {
   "cell_type": "code",
   "execution_count": 100,
   "metadata": {},
   "outputs": [],
   "source": [
    "def g_bb(x, y, mu, beta_0, tau = 1):\n",
    "    result = 0\n",
    "    for i in range(len(y)):\n",
    "        result += -np.asarray(x[i].reshape(x.shape[1],1) @ x[i].reshape(1,x.shape[1])\\\n",
    "        * (np.exp(x[i] @ beta_0 + mu) / (1 + np.exp(x[i] @ beta_0 + mu))**2))\n",
    "    return result"
   ]
  },
  {
   "cell_type": "markdown",
   "metadata": {},
   "source": [
    "Notation for $g_{\\mu\\beta}(\\hat\\mu_{i0};\\beta_0)$:\n",
    "\n",
    "$$\\dfrac{\\partial g_u(\\hat\\mu(\\beta_0);\\beta_0)}{\\partial \\beta_0}=\\hat\\mu_\\beta(\\beta_0)g_{\\mu\\mu}(\\hat\\mu_{i0})+g_{\\mu\\beta}(\\hat\\mu_{i0})=0$$"
   ]
  },
  {
   "cell_type": "code",
   "execution_count": null,
   "metadata": {},
   "outputs": [],
   "source": []
  },
  {
   "cell_type": "markdown",
   "metadata": {},
   "source": [
    "Notation for $g_{\\mu\\mu\\mu}(\\hat\\mu_{i0};\\beta_0)$:\n",
    "\n",
    "$$g_{\\mu\\mu\\mu}(\\hat\\mu_{i0};\\beta_0) = -\\sum_{j=1}^{n_i}\\dfrac{\\partial^2\\pi_{ij}}{\\partial\\mu_{i0}^2}$$"
   ]
  },
  {
   "cell_type": "code",
   "execution_count": 16,
   "metadata": {},
   "outputs": [],
   "source": [
    "def g_uuu(x, y, mu, beta_0, tau = 1):\n",
    "    return sum(- np.asarray((np.exp(x @ beta_0 + mu) * (np.exp(x @ beta_0 + mu) - 1)\\\n",
    "                             / (1 + np.exp(x @ beta_0 + mu))**3)))"
   ]
  },
  {
   "cell_type": "markdown",
   "metadata": {},
   "source": [
    "Notation for $g_{\\mu\\mu\\beta}(\\hat\\mu_{i0};\\beta_0)$:\n",
    "\n",
    "$$g_{\\mu\\mu\\beta}(\\hat\\mu_{i0};\\beta_0) = -\\sum_{j=1}^{n_i}\\dfrac{\\partial^2\\pi_{ij}}{\\partial\\mu_{i0}\\partial\\beta_0}$$"
   ]
  },
  {
   "cell_type": "code",
   "execution_count": 17,
   "metadata": {},
   "outputs": [],
   "source": [
    "def g_uub(x, y, mu, beta_0, tau = 1):\n",
    "    return np.sum(- x * np.asarray((np.exp(x @ beta_0 + mu) * (np.exp(x @ beta_0 + mu) - 1)\\\n",
    "                             / (1 + np.exp(x @ beta_0 + mu))**3)), axis = 0)"
   ]
  },
  {
   "cell_type": "markdown",
   "metadata": {},
   "source": [
    "Notation for $g_{\\mu\\beta\\beta}(\\hat\\mu_{i0};\\beta_0)$:\n",
    "\n",
    "$$\\dfrac{\\partial^3 g}{\\partial \\mu_{i0}\\partial \\beta_0^2}=-\\sum_{j=1}^{n_i}\\dfrac{\\partial^2\\pi_{ij}}{\\partial\\beta_0^2}$$"
   ]
  },
  {
   "cell_type": "code",
   "execution_count": 84,
   "metadata": {},
   "outputs": [],
   "source": [
    "def g_ubb(x, y, mu, beta_0, tau = 1):\n",
    "    result = 0\n",
    "    for i in range(len(y)):\n",
    "        result += -np.asarray(x[i].reshape(x.shape[1],1) @ x[i].reshape(1,x.shape[1])\\\n",
    "                         * (np.exp(x[i] @ beta_0 + mu) * (np.exp(x[i] @ beta_0 + mu) - 1)\\\n",
    "                                       / (1 + np.exp(x[i] @ beta_0 + mu))**3))\n",
    "    return result"
   ]
  },
  {
   "cell_type": "markdown",
   "metadata": {},
   "source": [
    "Notation for $g_{\\mu\\mu\\mu\\mu}(\\hat\\mu_{i0};\\beta_0)$:\n",
    "\n",
    "$$g_{\\mu\\mu\\mu\\mu}(\\hat\\mu_{i0};\\beta_0) = -\\sum_{j=1}^{n_i}\\dfrac{\\partial^3\\pi_{ij}}{\\partial\\mu_{i0}^3}$$"
   ]
  },
  {
   "cell_type": "code",
   "execution_count": 70,
   "metadata": {},
   "outputs": [],
   "source": [
    "def g_uuuu(x, y, mu, beta_0, tau = 1):\n",
    "    result = sum(- (np.exp(x @ beta_0 + mu) * (np.exp(x @ beta_0 + mu) - 1)\\\n",
    "                             / (1 + np.exp(x @ beta_0 + mu))**3)\\\n",
    "                 + (3 * np.exp(2 * (x @ beta_0 + mu)) * (np.exp(x @ beta_0 + mu) - 1)\\\n",
    "                             / (1 + np.exp(x @ beta_0 + mu))**4)\\\n",
    "                 - (np.exp(2 * (x @ beta_0 + mu))  / (1 + np.exp(x @ beta_0 + mu))**3)\\\n",
    "                )\n",
    "    return result"
   ]
  },
  {
   "cell_type": "markdown",
   "metadata": {},
   "source": [
    "Notation for $g_{\\mu\\mu\\mu\\beta}(\\hat\\mu_{i0};\\beta_0)$:\n",
    "\n",
    "$$g_{\\mu\\mu\\mu\\beta}(\\hat\\mu_{i0};\\beta_0) = -\\sum_{j=1}^{n_i}\\dfrac{\\partial^3\\pi_{ij}}{\\partial\\mu_{i0}^2\\partial\\beta_0}$$"
   ]
  },
  {
   "cell_type": "code",
   "execution_count": 71,
   "metadata": {},
   "outputs": [],
   "source": [
    "def g_uuub(x, y, mu, beta_0, tau = 1):\n",
    "    result = np.sum(- x * np.asarray((np.exp(x @ beta_0 + mu) * (np.exp(x @ beta_0 + mu) - 1)\\\n",
    "                             / (1 + np.exp(x @ beta_0 + mu))**3)\\\n",
    "                 + (3 * np.exp(2 * (x @ beta_0 + mu)) * (np.exp(x @ beta_0 + mu) - 1)\\\n",
    "                             / (1 + np.exp(x @ beta_0 + mu))**4)\\\n",
    "                 - (np.exp(2 * (x @ beta_0 + mu))  / (1 + np.exp(x @ beta_0 + mu))**3)), axis = 0)\n",
    "    return result"
   ]
  },
  {
   "cell_type": "markdown",
   "metadata": {},
   "source": [
    "Notation for $g_{\\mu\\mu\\beta\\beta}(\\hat\\mu_{i0};\\beta_0)$:\n",
    "\n",
    "$$g_{\\mu\\mu\\beta\\beta}(\\hat\\mu_{i0};\\beta_0) = -\\sum_{j=1}^{n_i}\\dfrac{\\partial^3\\pi_{ij}}{\\partial\\mu_{i0}\\partial\\beta^2_0}$$"
   ]
  },
  {
   "cell_type": "code",
   "execution_count": 72,
   "metadata": {},
   "outputs": [],
   "source": [
    "def g_uubb(x, y, mu, beta_0, tau = 1):\n",
    "    result = 0\n",
    "    for i in range(len(y)):\n",
    "        result += -np.asarray(x[i].reshape(x.shape[1],1) @ x[i].reshape(1,x.shape[1])\\\n",
    "                             * ((np.exp(x @ beta_0 + mu) * (np.exp(x @ beta_0 + mu) - 1)\\\n",
    "                             / (1 + np.exp(x @ beta_0 + mu))**3)\\\n",
    "                 + (3 * np.exp(2 * (x @ beta_0 + mu)) * (np.exp(x @ beta_0 + mu) - 1)\\\n",
    "                             / (1 + np.exp(x @ beta_0 + mu))**4)\\\n",
    "                 - (np.exp(2 * (x @ beta_0 + mu))  / (1 + np.exp(x @ beta_0 + mu))**3)))\n",
    "        \n",
    "    return result"
   ]
  },
  {
   "cell_type": "markdown",
   "metadata": {},
   "source": [
    "Notation for $\\hat\\omega$:\n",
    "\n",
    "$$\\hat\\omega=\\sqrt{-\\dfrac{1}{g_{\\mu\\mu}(\\hat\\mu_{i0})}}$$"
   ]
  },
  {
   "cell_type": "code",
   "execution_count": 10,
   "metadata": {},
   "outputs": [],
   "source": [
    "def omega(x, y, mu, beta_0, tau = 1):\n",
    "    return np.sqrt(-1/g_uu(x, y, mu, beta_0))"
   ]
  },
  {
   "cell_type": "markdown",
   "metadata": {},
   "source": [
    "Notation for $\\hat\\omega_\\beta$:\n",
    "\n",
    "$$\\dfrac{\\partial\\hat\\omega}{\\partial\\beta}=\\dfrac{1}{2}\\hat\\omega^3(g_{\\mu\\mu\\mu}\\hat\\mu_\\beta + g_{\\mu\\mu\\beta})$$"
   ]
  },
  {
   "cell_type": "code",
   "execution_count": 18,
   "metadata": {},
   "outputs": [],
   "source": [
    "def omega_b(x, y, mu, beta_0, tau = 1):\n",
    "    return 0.5 * omega(x, y, mu, beta_0, tau)**3 * (g_uuu(x, y, mu, beta_0, tau) * mu_b(x, y, mu, beta_0, tau)\\\n",
    "                                                    + g_uub(x, y, mu, beta_0, tau))"
   ]
  },
  {
   "cell_type": "markdown",
   "metadata": {},
   "source": [
    "Notation for $\\hat\\mu_\\beta$\n",
    "\n",
    "$$\\hat\\mu_\\beta(\\beta_0)=-\\dfrac{g_{\\mu\\beta}(\\hat\\mu_{i0};\\beta_0)}{g_{\\mu\\mu}(\\hat\\mu_{i0};\\beta_0)}=\\hat\\omega^2(\\beta_0)g_{\\mu\\beta}(\\hat\\mu_{i0}(\\beta_0);\\beta_0)$$"
   ]
  },
  {
   "cell_type": "code",
   "execution_count": 15,
   "metadata": {},
   "outputs": [],
   "source": [
    "def mu_b(x, y, mu, beta_0, tau = 1):\n",
    "    return omega(x, y, mu, beta_0, tau)**2 * g_ub(x, y, mu, beta_0, tau)"
   ]
  },
  {
   "cell_type": "markdown",
   "metadata": {},
   "source": [
    "Notation for $\\hat\\mu_{\\beta\\beta'}$:\n",
    "\n",
    "$$\\hat\\mu_{\\beta\\beta'}(\\beta_0)=\\hat\\omega^2(\\hat\\mu_\\beta\\hat\\mu_{\\beta'} g_{\\mu\\mu\\mu}+\\hat\\mu_{\\beta}g_{\\mu\\mu\\beta'}+\\hat\\mu_{\\beta'}g_{\\mu\\mu\\beta}+g_{\\mu\\beta\\beta'})$$"
   ]
  },
  {
   "cell_type": "code",
   "execution_count": 78,
   "metadata": {},
   "outputs": [],
   "source": [
    "def mu_bb(x, y, mu, beta_0, tau = 1):\n",
    "    result = omega(x, y, mu, beta_0, tau)**2 * (mu_b(x, y, mu, beta_0, tau).reshape(x.shape[1],1)\\\n",
    "                                              @ mu_b(x, y, mu, beta_0, tau).reshape(1,x.shape[1])\\\n",
    "                                              * g_uuu(x, y, mu, beta_0, tau)\\\n",
    "                                              + 2 * mu_b(x, y, mu, beta_0, tau).reshape(x.shape[1],1)\\\n",
    "                                              @ g_uub(x, y, mu, beta_0, tau).reshape(1,x.shape[1])\\\n",
    "                                              + g_ubb(x, y, mu, beta_0, tau))\n",
    "    return result"
   ]
  },
  {
   "cell_type": "markdown",
   "metadata": {},
   "source": [
    "Notation for $\\hat\\omega_{\\beta\\beta'}$:\n",
    "\n",
    "$$\\dfrac{\\partial^2}{\\partial\\beta\\partial\\beta'}\\hat\\omega(\\beta_0)=\\frac{3}{4}\\hat\\omega^5(\\hat\\mu_{\\beta'}g_{\\mu\\mu\\mu}+g_{\\mu\\mu\\beta'})(\\hat\\mu_{\\beta}g_{\\mu\\mu\\mu}+g_{\\mu\\mu\\beta})+\\dfrac{1}{2}\\hat\\omega^3(\\hat\\mu_{\\beta\\beta'}g_{\\mu\\mu\\mu}+\\hat\\mu_\\beta\\hat\\mu_{\\beta'}g_{\\mu\\mu\\mu\\mu}+\\hat\\mu_{\\beta}g_{\\mu\\mu\\mu\\beta'}+\\hat\\mu_{\\beta\\beta'}g_{\\mu\\mu\\mu\\beta}+g_{\\mu\\mu\\beta\\beta'})$$"
   ]
  },
  {
   "cell_type": "code",
   "execution_count": 92,
   "metadata": {},
   "outputs": [],
   "source": [
    "def omega_bb(x, y, mu, beta_0, tau = 1):\n",
    "    result = 3/4 * omega(x, y, mu, beta_0, tau)**5 * (mu_b(x, y, mu, beta_0, tau) * g_uuu(x, y, mu, beta_0, tau)\\\n",
    "                                                      + g_uub(x, y, mu, beta_0, tau)).reshape(x.shape[1],1)\\\n",
    "     @ (mu_b(x, y, mu, beta_0, tau) * g_uuu(x, y, mu, beta_0, tau)\\\n",
    "        + g_uub(x, y, mu, beta_0, tau)).reshape(1,x.shape[1]) + 1/2 * omega(x, y, mu, beta_0, tau)**3\\\n",
    "     * (mu_bb(x, y, mu, beta_0, tau) * g_uuu(x, y, mu, beta_0, tau)\\\n",
    "        + (mu_b(x, y, mu, beta_0, tau).reshape(x.shape[1],1)\\\n",
    "           @ mu_b(x, y, mu, beta_0, tau).reshape(1,x.shape[1]) * g_uuuu(x, y, mu, beta_0, tau))\\\n",
    "        + mu_b(x, y, mu, beta_0, tau).reshape(x.shape[1],1) @ g_uuub(x, y, mu, beta_0, tau).reshape(1,x.shape[1])\\\n",
    "        + mu_bb(x, y, mu, beta_0, tau)\n",
    "       )\n",
    "    return result"
   ]
  },
  {
   "cell_type": "markdown",
   "metadata": {},
   "source": [
    "Notation for $\\mathcal l_i'$:\n",
    "\n",
    "$$\\mathcal l_i' = \\dfrac{\\partial\\mathcal l_i}{\\partial\\beta_0}=\\dfrac{\\hat\\omega_\\beta}{\\hat\\omega}+g_\\mu(\\hat\\mu_{i0};\\beta_0)\\hat\\mu_\\beta(\\beta_0)+g_\\beta(\\hat\\mu_{i0};\\beta_0)$$"
   ]
  },
  {
   "cell_type": "code",
   "execution_count": 22,
   "metadata": {},
   "outputs": [],
   "source": [
    "def l_1(x, y, mu, beta_0, tau = 1):\n",
    "    l1 = omega_b(x, y, mu, beta_0, tau) / omega(x, y, mu, beta_0, tau)\\\n",
    "    + g_u(x, y, mu, beta_0, tau) * mu_b(x, y, mu, beta_0, tau) + g_b(x, y, mu, beta_0, tau)\n",
    "    return l1"
   ]
  },
  {
   "cell_type": "markdown",
   "metadata": {},
   "source": [
    "Notation for $l''_i$:\n",
    "\n",
    "$$l''_i=\\dfrac{\\partial^2l_i}{\\partial\\beta_0^2}=\\dfrac{\\hat\\omega_{\\beta\\beta'}\\hat\\omega-\\hat\\omega_\\beta\\hat\\omega_{\\beta'}}{\\hat\\omega^2}+\\hat\\mu_{\\beta\\beta'}g_\\mu+\\hat\\mu_\\beta(\\hat\\mu_{\\beta'}g_{\\mu\\mu}+g_{\\mu\\beta'})+\\hat\\mu_{\\beta'}g_{\\mu\\beta}+g_{\\beta\\beta'}$$"
   ]
  },
  {
   "cell_type": "code",
   "execution_count": 104,
   "metadata": {},
   "outputs": [],
   "source": [
    "def l_2(x, y, mu, beta_0, tau = 1):\n",
    "    l2 = omega(x, y, mu, beta_0, tau)**(-2) * (omega_bb(x, y, mu, beta_0, tau) * omega(x, y, mu, beta_0, tau)\\\n",
    "                                               - omega_b(x, y, mu, beta_0, tau).reshape(x.shape[1],1)\\\n",
    "                                               @ omega_b(x, y, mu, beta_0, tau).reshape(1,x.shape[1]))\\\n",
    "     + mu_bb(x, y, mu, beta_0, tau) * g_u(x, y, mu, beta_0, tau) + mu_b(x, y, mu, beta_0, tau).reshape(x.shape[1],1)\\\n",
    "     @ (mu_b(x, y, mu, beta_0, tau) * g_uu(x, y, mu, beta_0, tau) + g_ub(x, y, mu, beta_0, tau)).reshape(1,x.shape[1])\\\n",
    "     + mu_b(x, y, mu, beta_0, tau).reshape(x.shape[1],1) @ g_ub(x, y, mu, beta_0, tau).reshape(1,x.shape[1])\\\n",
    "     + g_bb(x, y, mu, beta_0, tau)\n",
    "    return l2"
   ]
  },
  {
   "cell_type": "markdown",
   "metadata": {},
   "source": [
    "Notation for maximizing $\\mu$ with respect to $\\hat\\mu=\\arg\\max_\\mu g(\\mu_i0;\\beta_0)$"
   ]
  },
  {
   "cell_type": "code",
   "execution_count": 149,
   "metadata": {},
   "outputs": [],
   "source": [
    "def max_mu(x, y, mu, beta_0, tau=1, max_iter=100):\n",
    "    for step in range(max_iter):\n",
    "#         print('Step: ', step, '\\n')\n",
    "        mu_new = mu - g_u(x, y, mu, beta_0, tau)/g_uu(x, y, mu, beta_0, tau)\n",
    "        diff = mu_new - mu\n",
    "#         print(diff)\n",
    "        if np.abs(diff) < 10**(-10):\n",
    "#             print(mu)\n",
    "            break;\n",
    "        mu = mu_new\n",
    "    return mu"
   ]
  },
  {
   "cell_type": "markdown",
   "metadata": {},
   "source": [
    "Notation for updating parameters"
   ]
  },
  {
   "cell_type": "code",
   "execution_count": 163,
   "metadata": {},
   "outputs": [
    {
     "name": "stdout",
     "output_type": "stream",
     "text": [
      "Initial beta: [[0]\n",
      " [0]\n",
      " [0]\n",
      " [0]\n",
      " [0]\n",
      " [0]\n",
      " [0]\n",
      " [0]\n",
      " [0]\n",
      " [0]] \n",
      "\n",
      "Beta:\n",
      " [[-0.02635409]\n",
      " [ 0.2838822 ]\n",
      " [-1.98640254]\n",
      " [-5.12083263]\n",
      " [ 1.09260947]\n",
      " [-5.25923557]\n",
      " [-2.03314193]\n",
      " [-1.86771009]\n",
      " [ 2.24603706]\n",
      " [ 3.16022686]] \n",
      "\n"
     ]
    }
   ],
   "source": [
    "beta = np.repeat(0, 10).reshape(10,1)\n",
    "mu = [0.1, 0.1]\n",
    "tau = 1\n",
    "\n",
    "print('Initial beta:', beta, \"\\n\")\n",
    "for step_mu in range(10):\n",
    "    mu[0] = max_mu(X1, y1, mu[0], beta, tau)\n",
    "    mu[1] = max_mu(X2, y2, mu[1], beta, tau)\n",
    "    for step in range(100):\n",
    "        l1 = l_1(X1, y1, mu[0], beta, tau) + l_1(X2, y2, mu[1], beta, tau)\n",
    "        l2 = l_2(X1, y1, mu[0], beta, tau) + l_2(X2, y2, mu[1], beta, tau)\n",
    "        delta = l1 @ inv(l2)\n",
    "        new_beta = beta - delta.reshape(10,1)\n",
    "        if max(np.abs(delta)) < 10**(-10):\n",
    "            break;\n",
    "        beta = new_beta\n",
    "#         print('Step ', step+1, ':\\n')\n",
    "#         print('Beta:\\n', beta, '\\n')\n",
    "#         print('Diff:\\n', delta, '\\n')\n",
    "print('Beta:\\n', beta, '\\n')"
   ]
  },
  {
   "cell_type": "code",
   "execution_count": 155,
   "metadata": {},
   "outputs": [
    {
     "data": {
      "text/plain": [
       "array([[-0.0217251 ],\n",
       "       [ 0.35104993],\n",
       "       [-2.04337875],\n",
       "       [-5.75784864],\n",
       "       [ 1.19368298],\n",
       "       [-5.78128915],\n",
       "       [-2.31044591],\n",
       "       [-2.13129101],\n",
       "       [ 2.56380536],\n",
       "       [ 3.40715245]])"
      ]
     },
     "execution_count": 155,
     "metadata": {},
     "output_type": "execute_result"
    }
   ],
   "source": [
    "true_beta"
   ]
  },
  {
   "cell_type": "code",
   "execution_count": 161,
   "metadata": {},
   "outputs": [
    {
     "data": {
      "text/plain": [
       "array([[-0.02635409],\n",
       "       [ 0.2838822 ],\n",
       "       [-1.98640254],\n",
       "       [-5.12083263],\n",
       "       [ 1.09260947],\n",
       "       [-5.25923557],\n",
       "       [-2.03314193],\n",
       "       [-1.86771009],\n",
       "       [ 2.24603706],\n",
       "       [ 3.16022686]])"
      ]
     },
     "execution_count": 161,
     "metadata": {},
     "output_type": "execute_result"
    }
   ],
   "source": [
    "beta"
   ]
  },
  {
   "cell_type": "code",
   "execution_count": null,
   "metadata": {},
   "outputs": [],
   "source": []
  }
 ],
 "metadata": {
  "kernelspec": {
   "display_name": "Python 3",
   "language": "python",
   "name": "python3"
  },
  "language_info": {
   "codemirror_mode": {
    "name": "ipython",
    "version": 3
   },
   "file_extension": ".py",
   "mimetype": "text/x-python",
   "name": "python",
   "nbconvert_exporter": "python",
   "pygments_lexer": "ipython3",
   "version": "3.7.4"
  }
 },
 "nbformat": 4,
 "nbformat_minor": 2
}
